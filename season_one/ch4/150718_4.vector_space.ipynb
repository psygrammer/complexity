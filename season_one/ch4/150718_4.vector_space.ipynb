{
 "cells": [
  {
   "cell_type": "markdown",
   "metadata": {
    "slideshow": {
     "slide_type": "slide"
    }
   },
   "source": [
    "# Chapter 4. 벡터 공간(vector space)\n",
    "\n",
    "## 150711_복작복잡스핀 4회차(발제: 홍수린)"
   ]
  },
  {
   "cell_type": "markdown",
   "metadata": {
    "collapsed": true,
    "slideshow": {
     "slide_type": "subslide"
    }
   },
   "source": [
    "##Preview questions(마지막에 다시 등장)\n",
    "- **벡터공간**은 무엇인가?\n",
    "- **선형결합**은 무엇인가?\n",
    "- **계수**는 무엇인가?\n",
    "- **벡터들의 생성**은 무엇인가?\n",
    "- **표준 생성자**는 무엇인가?\n",
    "- **flat의 예**는 어떤 것이 있는가?\n",
    "- **동차 선형방정식**은 무엇인가?\n",
    "- **원점을 포함하는 flat을 나타내는 두 가지 표현 방식**은 무엇인가?\n",
    "- **부분공간**은 무엇인가?\n",
    "- **아핀공간**은 무엇인가?\n",
    "- **아핀결합**은 무엇인가?\n",
    "- **벡터들의 아핀 hull**은 무엇인가?\n",
    "- **원점을 포함하지 않는 flat을 나타내는 두 가지 표현 방식**은 무엇인가?\n",
    "- **선형시스템의 해집합은 항상 아핀공간인가?**"
   ]
  },
  {
   "cell_type": "markdown",
   "metadata": {
    "slideshow": {
     "slide_type": "slide"
    }
   },
   "source": [
    "##Table of Contents\n",
    "####1. 벡터 공간과 생성(span)의 이해\n",
    "####2. 선형결합(일차결합)\n",
    "####3. 원점을 포함하는 flat\n",
    "####4. 원점을 포함하지 않는 flat"
   ]
  },
  {
   "cell_type": "markdown",
   "metadata": {
    "slideshow": {
     "slide_type": "slide"
    }
   },
   "source": [
    "# 1) *\"벡터 공간과 생성(span)의 이해\"*"
   ]
  },
  {
   "cell_type": "markdown",
   "metadata": {
    "collapsed": true,
    "slideshow": {
     "slide_type": "slide"
    }
   },
   "source": [
    "###<공간(空間, Space)>\n",
    "- **물리학에서**\n",
    "  - 빈 공간이라기 보다는 물성(물리량)을 정의하거나 나타낼 수 있는 공간 (=장(場))\n",
    "\n",
    "- **수학에서** \n",
    "  - **기하학적 도형(圖形) 및 대수학적 수(數)의 성질 모두를 갖는 수학적 표현**\n",
    "    - 기하학적인 개념을 빌린 대수적인 표현\n",
    "    - 만약 공간이 대수적 규칙을 따르지 않으면 단지 수(數)를 흩뿌린 것에 불과함\n",
    "  - 집합과 비슷한 의미이나 **집합의 원소에 연산이 정의되고 연산 결과가 다시 그 공간에 속함(닫힘성질)**\n",
    "  - n차원 공간에는 대표적으로 R^n(n차원 실수집합), C^n(n차원 복소수 집합)이 있음\n",
    "\n",
    "![alt text](https://upload.wikimedia.org/wikipedia/commons/thumb/6/69/Coord_system_CA_0.svg/375px-Coord_system_CA_0.svg.png)"
   ]
  },
  {
   "cell_type": "markdown",
   "metadata": {
    "slideshow": {
     "slide_type": "slide"
    }
   },
   "source": [
    "###<(수학에서의)벡터공간 개념>\n",
    "- **필드(field) 내에서** 아래의 **일정 조건(8가지 공리)을 만족하면 벡터공간**이라고 함\n",
    "- 필드의 원소는 **스칼라(scalar)**, 필드의 부분집합이 **벡터공간**, 벡터공간의 원소는 **벡터**\n",
    "- 실수 필드이면 **실벡터공간**, 복소 필드이면 **복소벡터공간**\n",
    "- 엄밀히 말하면 2차원 공간은 **벡터평면**, 3차원 이상은 **벡터공간**"
   ]
  },
  {
   "cell_type": "markdown",
   "metadata": {
    "slideshow": {
     "slide_type": "subslide"
    }
   },
   "source": [
    "<div style=\"text-align: center; height: 300px;\">\n",
    "<img style=\"float: left; width: 300px;\" src=\"http://www.nicklib.com/files/attach/images/197/670/001/1f512bada95ab33e70a23c222d25ba29.png\">\n",
    "<img style=\"float: left; width: 300px;\" src=\"http://www.nicklib.com/files/attach/images/197/670/001/0bec84816399ec811418a2cc1663ec57.png\">\n",
    "<div>"
   ]
  },
  {
   "cell_type": "markdown",
   "metadata": {
    "slideshow": {
     "slide_type": "slide"
    }
   },
   "source": [
    "###<벡터공간의 정의>\n",
    "$$\n",
    "\\text{필드(field) }F\\text{와 집합 }V\\text{에 대해 다음 연산이 정의: }\\\\[20pt]\n",
    "\\text{벡터 덧셈: }x,y \\in V \\text{에 대해 }x+y \\in V\\\\\n",
    "\\text{스칼라 곱: }x \\in V, a \\in F\\text{에 대해 } ax \\in V\\\\[20pt]\n",
    "\\text{이 때, }\\underline{x,y,z \\in V\\text{와 }a,b \\in F\\text{에 대하여 다음의 8가지 공리를 만족하면 }}\\\\\n",
    "\\underline{V\\text{를 필드(field)} F\\text{위의 벡터공간이라 함}}\n",
    "$$\n",
    "\n",
    "###<벡터공간의 8가지 공리>\n",
    "$$\n",
    "\\begin{align}\n",
    "\\text{(VS 1) }x+y=y+x\\text{ (덧셈에 대한 교환법칙)}\\\\\n",
    "\\text{(VS 2) }(x+y)+z=x+(y+z)\\text{ (덧셈에 대한 결합법칙)}\\\\\n",
    "\\text{(VS 3) [임의의 }x \\in V\\text{에 대해 }x+0=x]\\text{인 }0 \\in V\\text{ 존재 (덧셈에 대한 항등원)}\\\\\n",
    "\\text{(VS 4) }x+(-x)=0\\text{인 }-x \\in V\\text{ 존재 (덧셈에 대한 역원)}\\\\\n",
    "\\text{(VS 5) }1\\cdot x=x\\text{ (스칼라 곱에 대한 항등원)}\\\\\n",
    "\\text{(VS 6) }(ab)x=a(bx)\\text{ (스칼라 곱에 대한 결합법칙)}\\\\\n",
    "\\text{(VS 7) }a(x+y)=ax+ay\\text{ (벡터 덧셈에 대한 분배법칙)}\\\\\n",
    "\\text{(VS 8) }(a+b)x=ax+bx\\text{ (스칼라 덧셈에 대한 분배법칙)}\\\\\n",
    "\\end{align} \n",
    "$$\n"
   ]
  },
  {
   "cell_type": "markdown",
   "metadata": {
    "slideshow": {
     "slide_type": "slide"
    }
   },
   "source": [
    "###<선형결합(linear combination;일차결합) - p.125>\n",
    "$$\n",
    "\\text{벡터공간 }V\\text{의 원소들 }x_1, x_2,\\cdots , x_n\\text{에 대해 }\\\\\n",
    "a_1x_1+a_2x_2+\\cdots +a_nx_n(a_1,a_2,\\cdots a_n \\in F)\\text{꼴의 합을 }\\\\\n",
    "x_1, x_2, \\cdots , x_n\\text{의 선형결합 또는 일차결합이라 함}\\\\[10pt]\n",
    "$$\n",
    "- **선형**결합인 이유: 벡터에 제곱을 해준 것이 아니라 **스칼라-벡터 곱(상수배)**을 한 상태에서 더했기 때문\n",
    "- 용어가 번역되는 과정에서 '일차결합'이라는 말이 된 것. 원어로는 '선형결합'임\n",
    "- **벡터들의 합을 통해 새로운 벡터를 만들어 낼 수** 있음\n",
    "- **선형결합의 예시**\n",
    "\n",
    "##-5[2, 3] + 2[4, 10]"
   ]
  },
  {
   "cell_type": "markdown",
   "metadata": {
    "slideshow": {
     "slide_type": "subslide"
    }
   },
   "source": [
    "###<선형결합을 통한 생성(span) - p.129>\n",
    "- 벡터들의 선형결합을 통해 다른 벡터를 만들어낼 때 결과 벡터들의 집합을 **'생성(span)'**이라 함\n",
    "\n",
    "$$\n",
    "\\begin{align}\n",
    "\\text{벡터들 }v_1, \\cdots , v_n\\text{의 모든 선형결합으로 이루어진 집합을 이 벡터들의 생성이라 하고 }\\\\\n",
    "Span\\{v_1, \\cdots , v_n\\}\\text{라고 쓴다.}\\\\[30pt]\n",
    "\\end{align}\n",
    "$$\n",
    "\n",
    "\n",
    "- **어떠한** 벡터들을 더하고 빼는 선형결합으로 벡터공간 내의 모든 벡터를 표현할 수도 있음\n",
    "- [a, b] 순서쌍 벡터(R^2)를 기준으로 했을 때, (p.136)\n",
    "  - **단일 벡터의 생성(span)은 직선을 이룸(0벡터는 예외)**\n",
    "  - **생성(span)이 한 직선 위에 있지 않은**(기울기가 같지 않은) **두 벡터의 선형결합으로 모든 벡터를 생성(span) 가능**\n",
    "\n",
    "<img style=\"width: 50%;\" src=\"http://www2.sunysuffolk.edu/pestiej/graph.bmp\">"
   ]
  },
  {
   "cell_type": "markdown",
   "metadata": {
    "slideshow": {
     "slide_type": "subslide"
    }
   },
   "source": [
    "####Quiz 4.2.2: 필드 GF(2) 상의 Span{[1, 1], [0, 1]}에 몇 개의 벡터가 있는가?"
   ]
  },
  {
   "cell_type": "markdown",
   "metadata": {
    "slideshow": {
     "slide_type": "subslide"
    }
   },
   "source": [
    "####Quiz 4.2.6: Span{v}가 유한개의 벡터들로 구성되는 R 상의 2-벡터 v는 무엇인가?"
   ]
  },
  {
   "cell_type": "markdown",
   "metadata": {
    "slideshow": {
     "slide_type": "slide"
    }
   },
   "source": [
    "###<생성자>\n",
    "$$\n",
    "\\begin{align}\n",
    "\\text{벡터들 }v_1, \\cdots , v_n\\text{의 모든 선형결합으로 이루어진 집합을 이 벡터들의 생성이라 하고 }\\\\\n",
    "Span\\{v_1, \\cdots , v_n\\}\\text{라고 쓴다.}\\\\[15pt]\n",
    "\\text{V를 벡터들의 집합이라 할 때, 만약 }v_1, \\cdots , v_n\\text{이 }V = Span\\{v_1, \\cdots , v_n\\}\\text{을 만족하는 벡터들이면 }\\\\[5pt]\n",
    "\\{v_1, \\cdots , v_n\\}\\text{은 V에 대한 생성집합(generating set)이라 하고}\\\\\n",
    "\\text{벡터 }v_1, \\cdots , v_n\\text{을 }V\\text{에 대한 생성자(generator)들이라고 한다.}\\\\\n",
    "\\end{align}\n",
    "$$"
   ]
  },
  {
   "cell_type": "markdown",
   "metadata": {
    "slideshow": {
     "slide_type": "slide"
    }
   },
   "source": [
    "# 2) *\"선형결합(일차결합)\"*"
   ]
  },
  {
   "cell_type": "markdown",
   "metadata": {
    "slideshow": {
     "slide_type": "subslide"
    }
   },
   "source": [
    "###<선형결합(linear combination)의 정의 - p.125>\n",
    "\n",
    "$$\n",
    "\\text{벡터공간 }V\\text{의 원소들 }x_1, x_2,\\cdots , x_n\\text{에 대해 }\\\\\n",
    "a_1x_1+a_2x_2+\\cdots +a_nx_n(a_1,a_2,\\cdots a_n \\in F)\\text{꼴의 합을 }\\\\\n",
    "x_1, x_2, \\cdots , x_n\\text{의 선형결합 또는 일차결합이라 함}\\\\[10pt]\n",
    "$$"
   ]
  },
  {
   "cell_type": "markdown",
   "metadata": {
    "slideshow": {
     "slide_type": "slide"
    }
   },
   "source": [
    "###<선형결합의 사용례1: 얼굴 합치기 - p.126>\n",
    "- 사람 한 명 한 명의 얼굴을 벡터라고 할 때,\n",
    "<div style=\"vertical-align: middle;\">\n",
    "<img style=\"float: left; height:50px;\" src=\"http://sproget.dk/raad-og-regler/retskrivningsregler/retskrivningsregler/a7-40-60/copy_of_13.jpg/image_preview\">\n",
    "\n",
    "<img style=\"float: left; height:150px;\" src=\"https://fbcdn-profile-a.akamaihd.net/hprofile-ak-xap1/v/t1.0-1/c44.44.552.552/523599_444413168926679_1884342922_n.jpg?oh=ca1692f0f6b39038f4ee5859aaece5e3&oe=5622BC2E&__gda__=1448737279_c131dec8c2ffee270bf281ca49b9fca1\">\n",
    "\n",
    "\n",
    "<img style=\"float: left; height:70px; margin: 30px 0px\" src=\"http://www.charbase.com/images/glyph/10133\">\n",
    "\n",
    "<img style=\"float: left; height:50px;\" src=\"http://sproget.dk/raad-og-regler/retskrivningsregler/retskrivningsregler/a7-40-60/copy_of_13.jpg/image_preview\">\n",
    "\n",
    "<img style=\"float: left; height:150px;\" src=\"https://fbcdn-sphotos-a-a.akamaihd.net/hphotos-ak-xfp1/v/t1.0-9/935266_538244159554715_514063980_n.jpg?oh=af7f3cd72aaeb764b589ec6dad8d75eb&oe=56579F84&__gda__=1444877206_30e2c477de193a1f310f3e762bce136d\">\n",
    "\n",
    "\n",
    "<img style=\"float: left; height:70px; margin: 30px 0px\" src=\"http://www.charbase.com/images/glyph/10133\">\n",
    "\n",
    "<img style=\"float: left; height:50px;\" src=\"http://sproget.dk/raad-og-regler/retskrivningsregler/retskrivningsregler/a7-40-60/copy_of_13.jpg/image_preview\">\n",
    "\n",
    "<img style=\"float: left; height:150px;\" src=\"https://fbcdn-sphotos-c-a.akamaihd.net/hphotos-ak-xft1/v/t1.0-9/11695339_911140598942076_863207346748087161_n.jpg?oh=8564901a2b24889717408f3ef417acbd&oe=56585109&__gda__=1445424943_36aa4a110104da9ed71cf4fb80efe4b5\">\n",
    "\n",
    "<img style=\"float: left; height:70px; margin: 30px 0px\" src=\"http://s3.amazonaws.com/rapgenius/maths-equal-sign-wallpaper.jpg\">\n",
    "\n",
    "<img style=\"float: left; height:150px;\" src=\"http://cfile204.uf.daum.net/image/262CA537516BA2C83B6EAD\">\n",
    "</div>"
   ]
  },
  {
   "cell_type": "markdown",
   "metadata": {
    "slideshow": {
     "slide_type": "slide"
    }
   },
   "source": [
    "###<선형결합의 사용례2: 리소스 계산하기 - p.127>\n",
    "- 다음은 JunkCo가 **각 제품을 만드는 데 리소스가 얼마만큼 사용되는지** 항목별로 나타낸 표\n",
    "\n",
    "|               | 금속 | 콘크리트 | 플라스틱 | 물 | 전기 |\n",
    "|---------------|------|----------|----------|----|------|\n",
    "| garden gnome  | 0    | 1.3      | .2       | .8 | .4   |\n",
    "| hula hoop     | 0    | 0        | 1.5      | .4 | .3   |\n",
    "| slinky        | .25  | 0        | 0        | .2 | .7   |\n",
    "| silly putty   | 0    | 0        | .3       | .7 | .5   |\n",
    "| salad shooter | .15  | 0        | .5       | .4 | .8   |\n",
    "\n",
    "####Q1. 각 제품을 벡터로 표현하면?\n",
    "####Q2. JunkCo가 **240개의 gnomes, 55개의 hoops, 150개의 slinkies, 133개의 putties, 90개의 shooters**를 만들기로 할 때 필요한 총 리소스는 얼마나 되는가?"
   ]
  },
  {
   "cell_type": "code",
   "execution_count": 72,
   "metadata": {
    "collapsed": false,
    "slideshow": {
     "slide_type": "subslide"
    }
   },
   "outputs": [
    {
     "name": "stdout",
     "output_type": "stream",
     "text": [
      "{'electricity': 356.0, 'plastic': 215.4, 'concrete': 312.0, 'water': 373.1, 'metal': 51.0}\n"
     ]
    }
   ],
   "source": [
    "# A2. (p.127 참고)\n",
    "\n",
    "class Vec:\n",
    "    def __init__(self, labels, function):\n",
    "        self.D = labels\n",
    "        self.f = function\n",
    "        \n",
    "    def getitem(v,d):\n",
    "        return v.f[d] if d in v.f else 0\n",
    "    \n",
    "    def scalar_mul(v, alpha):\n",
    "        return Vec(v.D, {d:alpha*value for d, value in v.f.items()})\n",
    "\n",
    "    def vec_add(D, vec_list):\n",
    "        return Vec(D, {d:sum(Vec.getitem(v,d) for v in vec_list) for d in D})\n",
    "\n",
    "    \n",
    "D = {'metal', 'concrete', 'plastic', 'water', 'electricity'}\n",
    "v_gnome = Vec(D, {'concrete':1.3, 'plastic':.2, 'water':.8, 'electricity':.4})\n",
    "v_hoop = Vec(D, {'plastic':1.5, 'water':.4, 'electricity':.3})\n",
    "v_slinky = Vec(D, {'metal':.25, 'water':.2, 'electricity':.7})\n",
    "v_putty = Vec(D, {'plastic':.3, 'water':.7, 'electricity':.5})\n",
    "v_shooter = Vec(D, {'metal':.15, 'plastic':.5, 'water':.4, 'electricity':.8})\n",
    "\n",
    "vector_list = [Vec.scalar_mul(v_gnome, 240), Vec.scalar_mul(v_hoop, 55), Vec.scalar_mul(v_slinky, 150), \n",
    "               Vec.scalar_mul(v_putty, 133), Vec.scalar_mul(v_shooter, 90)]\n",
    "gross_resource = Vec.vec_add(D, vector_list)\n",
    "\n",
    "print(gross_resource.f)"
   ]
  },
  {
   "cell_type": "markdown",
   "metadata": {
    "slideshow": {
     "slide_type": "slide"
    }
   },
   "source": [
    "###<전진문제와 후진문제 - P.128>\n",
    "$$\n",
    "\\begin{align}\n",
    "\\text{길이가 } n \\text{인 벡터들의 리스트와 길이가 } n \\text{인 계수들의 리스트를 매핑하는 함수 } f \\text{가 존재할 때,}\\\\[15pt]\n",
    "\\end{align}\n",
    "$$\n",
    "\n",
    "####**전진문제(forward problem)**\n",
    "  - 주어진 정의역의 원소에 대해 함수의 상(함수값)을 찾는 것\n",
    "  - 주어진 계수와 벡터를 이용해 선형결합하여 출력 벡터를 계산하는 것\n",
    "  \n",
    "####**후진문제(backward problem)**\n",
    "  - 주어진 공역의 원소에 대해 존재하는 임의의 원상(pre-image)를 찾는 것\n",
    "  - **출력 벡터와 n벡터들의 리스트를 가지고 계수들의 리스트를 찾는 것**\n",
    "  - 이 경우 다음과 같은 두 가지 질문이 발생\n",
    "    1. **함수 f에 대해 출력 벡터 b의 원상을 구할 수 있는가?**(후진문제를 풀 수 있는가?)\n",
    "    2. **해가 하나인지 아닌지 어떻게 알 수 있는가?**"
   ]
  },
  {
   "cell_type": "markdown",
   "metadata": {
    "slideshow": {
     "slide_type": "subslide"
    }
   },
   "source": [
    "###< (1) 함수 f에 대해 출력 벡터 b의 원상을 구할 수 있는가? - p.129>\n",
    "####\\* Lights Out 문제(p.92 참고)\n",
    "- 5x5 격자 형태의 빛나는 버튼으로 이루어진 퍼즐\n",
    "- 처음에 일부 버튼은 불이 켜져있고 일부는 꺼져있음\n",
    "- 버튼을 누르면 그 버튼의 현재 상태가 반대로 바뀌고 이와 동시에 눌러진 버튼 상하좌우 4개 버튼의 상태도 반대로 바뀜\n",
    "- **주어진 초기 상태에서, 모든 버튼의 불을 꺼지도록 하기 위해 눌러야 하는 버튼의 시퀀스**를 찾는 것이 목표(없는 경우 없다고 report)\n",
    "- **퍼즐의 상태는 각 격자 위치에 하나의 엔트리를 갖는 GF(2) 상의 벡터에 의해 표현 가능**"
   ]
  },
  {
   "cell_type": "markdown",
   "metadata": {
    "slideshow": {
     "slide_type": "subslide"
    }
   },
   "source": [
    "###<선형결합==선형시스템의 해>\n",
    "####\\* Lights Out 계속\n",
    "- 퍼즐의 초기 상태를 s라 할 때, **퍼즐에 대한 해를 찾는 것(모든 버튼을 끄기 위해 눌러야 하는 버튼의 순서)은 합이 s인 버튼 벡터들의 부분집합을 찾는 것과 같음**\n",
    "- GF(2) 상에서 계수는 0 또는 1\n",
    "- 잘 와닿지 않는 분들은 **p.129의 Quiz 4.1.10을 참고**하세요\n",
    "- **25개 버튼 벡터들의 선형결합**은 다음과 같음\n",
    "$$\n",
    "\\alpha_{0,0}v_{0,0}+\\alpha_{0,1}v_{0,1}+\\cdots+\\alpha_{4,4}v_{4,4}\\\\[15pt]\n",
    "$$\n",
    "- 이 때의 목적은 **합이 s인 25개 버튼 벡터들의 선형결합을 찾는 것**\n",
    "$$\n",
    "s = \\alpha_{0,0}v_{0,0}+\\alpha_{0,1}v_{0,1}+\\cdots+\\alpha_{4,4}v_{4,4}\\\\[15pt]\n",
    "$$\n",
    "- _결과적으로 **\"선형결합에 대한 후진문제를 해결해야 함\"**_"
   ]
  },
  {
   "cell_type": "markdown",
   "metadata": {
    "slideshow": {
     "slide_type": "slide"
    }
   },
   "source": [
    "###< (2) 후진문제의 해가 하나인지 아닌지 어떻게 알 수 있는가? - p.129>\n",
    "####\\* 선형시스템의 해의 유일성(p.98 참고 - 3.9.2)\n",
    "$$\n",
    "\\text{선형방정식(일차 방정식)은 }a\\cdot x=\\beta\\text{의 형태를 가지는 식으로, }\\\\\n",
    "a\\text{는 벡터, }\\beta\\text{는 스칼라이며 }x\\text{는 벡터 변수이다.}\\\\[20pt]\n",
    "\\text{선형방정식들의 시스템(줄여서 선형시스템)은 방정식들의 컬렉션이다.}\\\\[10pt]\n",
    "a_1 \\cdot x = \\beta_1\\\\\n",
    "a_2 \\cdot x = \\beta_2\\\\\n",
    "\\vdots\\\\\n",
    "a_m \\cdot x = \\beta_m\\\\[10pt]\n",
    "\\text{여기서, }x\\text{는 벡터 변수이다. 해는 모든 방정식을 만족하는 벡터 }\\hat{x}\\text{이다.}\n",
    "$$\n",
    "\n",
    "- 접근 방법은 발표의 가장 마지막 부분에 나옴"
   ]
  },
  {
   "cell_type": "markdown",
   "metadata": {
    "slideshow": {
     "slide_type": "slide"
    }
   },
   "source": [
    "###<선형시스템이 암시하는 다른 방정식들 - p.131>\n",
    "####\\* 단순한 인증기법 문제(p.105 참고 - 3.9.6)\n",
    "- 패스워드는 **GF(2) 상의 벡터 x**\n",
    "- **컴퓨터는 사용자에게 시도 벡터 a를 전송**하여 사용자가 패스워드를 알고 있는지 테스트\n",
    "- **사용자는 도트곱 ax로 응답**해야 함\n",
    "- 엿듣는 사람이 다음과 같은 '시도'들과 이에 대응하는 '응답'을 알고 있을 때, **임의의 가능한 시도 벡터들에 대해 패스워드를 모르는 상태에서도 올바른 응답을 구할 수 있는가?**\n",
    "- **벡터 덧셈에 대한 도트곱의 분배법칙**을 이용하면 응답은 이전에 관찰된 시도 벡터들의 임의의 부분집합의 합\n",
    "\n",
    "$$\n",
    "\\text{시도: }a_1=[1, 1, 1, 0, 0]\\text{ -----> 응답: }\\beta_1=1\\\\\n",
    "\\text{시도: }a_2=[0, 1, 1, 1, 0]\\text{ -----> 응답: }\\beta_2=0\\\\ \n",
    "\\text{시도: }a_3=[0, 0, 1, 1, 1]\\text{ -----> 응답: }\\beta_3=1\n",
    "$$"
   ]
  },
  {
   "cell_type": "markdown",
   "metadata": {
    "slideshow": {
     "slide_type": "subslide"
    }
   },
   "source": [
    "###<생성을 이용한 해결>\n",
    "####\\* 단순한 인증기법 문제 계속\n",
    "$$\n",
    "\\begin{align}\n",
    "\\text{시도 벡터 }a_1, a_2, a_3\\text{의 모든 선형결합(생성)을 고려할 때,}\\\\\n",
    "\\text{만약 시도가 생성내에 있으면 올바른 응답을 계산할 수 있다}\n",
    "\\end{align}\n",
    "$$\n",
    "- Q. 시도 벡터가 생성(span) 중 하나인 [1, 0, 1, 0, 1]일 때 응답을 계산할 수 있는가?\n",
    "\n",
    "$$\n",
    "[1,0,1,0,1]=1[1,1,1,0,0]+1[0,1,1,1,0]+1[0,0,1,1,1]\\\\[80pt]\n",
    "$$"
   ]
  },
  {
   "cell_type": "markdown",
   "metadata": {
    "slideshow": {
     "slide_type": "subslide"
    }
   },
   "source": [
    "###<생성 내에 있는 벡터의 도트곱 - p.132>\n",
    "####\\* 단순한 인증기법 문제의 일반화\n",
    "$$\n",
    "\\text{벡터 }x\\text{가 임의의 필드상에서 아래 선형방정식을 만족하면}\\\\[10pt]\n",
    "a_1 \\cdot x = \\beta_1\\\\\n",
    "\\vdots\\\\\n",
    "a_m \\cdot x = \\beta_m\\\\[10pt]\n",
    "\\hat{x}\\text{와 }a_1, \\cdots , a_m\\text{의 생성에 있는 임의의 벡터 }a\\text{의 도트곱을 계산할 수 있다.}\\\\[20pt]\n",
    "$$\n",
    "\n",
    "####\\* 암시되는 선형방정식\n",
    "\n",
    "$$\n",
    "a_1, \\cdots , a_m\\text{의 생성에 있는 모든 벡터 }a\\text{에 대해}\\\\\n",
    "\\text{선형방정식들의 시스템은 }a \\cdot x = \\beta\\text{ 형태의 선형방정식을 암시}\\\\[50pt]\n",
    "$$"
   ]
  },
  {
   "cell_type": "markdown",
   "metadata": {
    "slideshow": {
     "slide_type": "slide"
    }
   },
   "source": [
    "# 3) *\"원점을 포함하는 flat\"*"
   ]
  },
  {
   "cell_type": "markdown",
   "metadata": {
    "slideshow": {
     "slide_type": "slide"
    }
   },
   "source": [
    "###< 필드를 생성하는 생성집합 >\n",
    "####Example 4.2.11 (p.132):\n",
    "####{ [3, 0, 0], [0, 2, 0], [0, 0, 1] }은 R^3에 대한 생성집합이라고 주장하려면, 이 세 벡터들의 선형결합들로 구성된 집합이 R^3과 동일함을 증명해야 한다.\n",
    "1. 모든 선형결합은 R^3 내의 벡터이다.\n",
    "2. **R^3 내의 모든 벡터는 선형결합**이다.\n",
    "\n",
    "####증명 1. R^3이 R 상의 모든 3-벡터들을 포함하므로 명백함\n",
    "####증명 2. **R^3 내의 임의의 벡터 {x, y, z}를 선형결합으로 쓸 수 있음을 보여야 함**\n",
    "\n",
    "$$\n",
    "[x, y, z] = (x/3)[3, 0, 0] + (y/2)[0, 2, 0] + z[0, 0, 1]\n",
    "$$"
   ]
  },
  {
   "cell_type": "markdown",
   "metadata": {
    "slideshow": {
     "slide_type": "subslide"
    }
   },
   "source": [
    "###< 필드를 생성하는 또다른 생성집합 - p.133>\n",
    "\n",
    "####Q. R^3에 대한 또다른 생성집합이 {[1, 0, 0], [1, 1, 0], [1, 1, 1]}이라고 주장하려면 앞서 증명한 세 벡터 각각을 이에 대한 선형결합으로 나타내면 됨\n",
    "\n",
    "$$\n",
    "\\begin{align}\n",
    "3[1, 0, 0] = [3, 0, 0]\\\\\n",
    "-2[1, 0, 0] + 2[1, 1, 0] = [0, 2, 0]\\\\\n",
    "-1[1, 0, 0] -1[1, 1, 0] + [1, 1, 1] = [0, 0, 1]\n",
    "\\end{align}\n",
    "$$"
   ]
  },
  {
   "cell_type": "markdown",
   "metadata": {
    "slideshow": {
     "slide_type": "slide"
    }
   },
   "source": [
    "###<표준 생성자 - p.134>\n",
    "$$\n",
    "\\text{임의의 양의 정수 }n\\text{에 대해 }R^n\\text{에 대한 표준 생성자는 아래와 같다.}\\\\\n",
    "\\text{(어디서 많이 본 형태죠?ㅎㅎ)}\\\\[10pt]\n",
    "e_0 = [1,0,0,0, \\cdots , 0]\\\\\n",
    "e_1 = [0,1,0,0, \\cdots , 0]\\\\\n",
    "e_2 = [0,0,1,0, \\cdots , 0]\\\\\n",
    "\\vdots\\\\\n",
    "e_{n-1} = [0,0,0,0, \\cdots , 1]\\\\[10pt]\n",
    "\\text{여기서, }e_i\\text{의 }i\\text{번째 위치만 1이고 나머지 위치는 모두 0}\\\\[20pt]\n",
    "\\text{임의의 유한한 정의역 }D\\text{와 필드 }F\\text{에 대해, }F^D\\text{에 대한 생성자는 반드시 존재함}\\\\[10pt]\n",
    "\\text{각 }k \\in D\\text{에 대해 }e_k\\text{는 함수 }{k: 1}\n",
    "$$"
   ]
  },
  {
   "cell_type": "markdown",
   "metadata": {
    "slideshow": {
     "slide_type": "subslide"
    }
   },
   "source": [
    "####Excercise 4.2.15: 아래 각 문제에 대해 주어진 벡터들이 R^2를 생성하는지 알아 보자. 만약 가능하다면 R^2에 대한 각 표준 생성자를 주어진 벡터들의 선형결합으로 나타내 보자. 가능하지 않다면 하나의 벡터를 추가한 다음에 수행해 보자.\n",
    "1. [1, 2], [3, 4]\n",
    "2. [1, 1], [2, 2], [3, 3]\n",
    "3. [1, 1], [1, -1], [0, 1]"
   ]
  },
  {
   "cell_type": "markdown",
   "metadata": {
    "slideshow": {
     "slide_type": "slide"
    }
   },
   "source": [
    "###<벡터들의 집합에 대한 기하적 구조 - p.136>\n",
    "- **하나의 영이 아닌 벡터 v의 모든 선형결합**은 원점과 점 v를 지나는 직선을 형성\n",
    "\n",
    "$$\n",
    "Span\\{v\\} = {\\alpha v : \\alpha \\in R}\\\\[20pt]\n",
    "$$\n",
    "\n",
    "- **두 개의 서로 다른, 영이 아닌 벡터들의 생성**은 원점을 지나는 2차원 기하학적 객체(평면)를 형성"
   ]
  },
  {
   "cell_type": "markdown",
   "metadata": {},
   "source": [
    "####Example 4.3.1: Span{[1, 0], [0, 1]}은 무엇인가?\n",
    "\n",
    "####Example 4.3.4: 모든 두 개의 서로 다른 벡터들은 평면을 생성하는가? Span{[1, 2], [2, 4]}는 무엇인가?\n",
    "\n",
    "\n",
    "<img style=\"width: 50%;\" src=\"http://www2.sunysuffolk.edu/pestiej/graph.bmp\">"
   ]
  },
  {
   "cell_type": "markdown",
   "metadata": {
    "slideshow": {
     "slide_type": "subslide"
    }
   },
   "source": [
    "###< flat - p.137>\n",
    "- 영벡터들의 생성은 점, 즉 **영차원 객체(원점)**를 형성\n",
    "- 하나의 벡터의 생성은 **원점을 지나는 직선(1차원 객체) 또는 어떤 점(원점)**을 형성\n",
    "- 두 벡터의 생성은 **원점을 지나는 평면(2차원 객체) 또는 원점을 지나는 직선(1차원 객체), 또는 어떤 점(원점)**을 형성\n",
    "\n",
    "\n",
    "    - flat: 점, 직선 또는 평면과 같은 기하적 객체\n",
    "    - 고차원 flat도 존재(R^3상의 모든 것은 3차원 flat)\n",
    "\n",
    "$$\n",
    "\\begin{align}\n",
    "R\\text{상의 }k\\text{ 벡터들의 생성은 원점을 포함하는 }k-\\text{차원의 flat}\\\\\n",
    "\\text{또는 원점을 포함하는 더 낮은 차원의 flat을 형성함}\\\\[10pt]\n",
    "\\end{align}\n",
    "$$"
   ]
  },
  {
   "cell_type": "markdown",
   "metadata": {
    "slideshow": {
     "slide_type": "slide"
    }
   },
   "source": [
    "###<동차 선형방정식>\n",
    "####Definition 4.3.8(p.138): 우변이 영인 선형방정식을 \"*동차* 선형방정식\"이라 함\n",
    "####Definition 4.3.11(p.139): 우변이 모두 영인 선형시스템(선형방정식들의 컬렉션)은 \"*동차* 선형시스템\"이라 함\n",
    "\n",
    "###<동차 선형시스템의 해집합에 대한 기하적 구조 - p.138>\n",
    "####Example 4.3.9: 직선인 Span{[3.2]}의 다른 표현방법은?\n",
    "\n",
    "$$\n",
    "\\{[x, y] \\in R^2 : 2x - 3y = 0\\}\n",
    "$$\n",
    "\n",
    "[수식을 그래프로 변환해주는 사이트](https://www.desmos.com/calculator)\n",
    "\n",
    "####Example 4.3.7: 평면인 {[1, 0, 1.65], [0, 1, 1]}의 다른 표현방법은?\n",
    "\n",
    "$$\n",
    "\\{(x, y, z) \\in R^3 : 1.65x + 1y + 1z = 0\\}\\\\[10pt]\n",
    "\\text{즉, }\\{(x, y, z) \\in R^3 : [1.65, 1, -1] \\cdot [x, y, z] = 0\\}\n",
    "$$\n",
    "\n",
    "[평면의 방정식 참고자료](http://m.blog.naver.com/mindo1103/90103407031)\n",
    "\n",
    "[법선벡터(평면의 방정식에서 x, y, z의 계수) 구하는 방법](http://hybridego.net/122)\n",
    "\n",
    "###_Hypothesis 4.3.12: 원점을 포함하는 flat은 \"동차 선형시스템의 해집합\"이다_"
   ]
  },
  {
   "cell_type": "markdown",
   "metadata": {
    "slideshow": {
     "slide_type": "slide"
    }
   },
   "source": [
    "###<원점을 포함하는 flat의 두 가지 표현>\n",
    "1. **어떤 벡터들의 생성**으로서\n",
    "2. **동차 선형시스템의 해집합**으로서\n",
    "\n",
    "    - 각 표현법은 필요에 따라 사용됨\n",
    "    - 하나의 표현법에서 다른 것으로 변환할 수 있는지에 대한 내용은 ch.7에서 다뤄질 예정"
   ]
  },
  {
   "cell_type": "markdown",
   "metadata": {
    "slideshow": {
     "slide_type": "-"
    }
   },
   "source": [
    "####Q1. 두 개의 주어진 직선 Span{[4, -1, 1]}와 Span{[0, 1, 1]}을 포함하는 평면은? (생성으로서)\n",
    "####Q2. 두 개의 주어진 평면 {[x, y, z]: [4, -1, 1]\\*[x, y, z] = 0}와 평면 {[x, y, z]: [0, 1, 1]\\*[x, y, z] = 0}의 교점은? (해집합으로서)"
   ]
  },
  {
   "cell_type": "markdown",
   "metadata": {},
   "source": [
    "###<벡터공간의 재정의(p.140) - 4.4>\n",
    "####Property V1: V는 영벡터를 포함한다.\n",
    "####Property V2: 모든 벡터 v에 대해, 만약 V가 v를 포함하면 V는 모든 스칼라 a(alpha)에 대해 av를 포함하고 스칼라-벡터 곱에 대해 닫혀 있다.\n",
    "####Property V3: 모든 벡터들의 쌍 u, v에 대해, 만약 V가 u와 v를 포함하면 V는 u+v를 포함한다."
   ]
  },
  {
   "cell_type": "markdown",
   "metadata": {},
   "source": [
    "####Definition 4.4.1: 벡터들의 집합 V는 만약 Property V1, V2, V3를 만족하면 _벡터공간_이라고 한다.\n",
    "####Example 4.4.2: 어떤 벡터들의 생성은 벡터공간이다.\n",
    "####Example 4.4.3: 동차 선형시스템의 해집합은 벡터공간이다.\n",
    "####Example 4.4.4: 원점을 포함하는 (직선 또는 평면과 같은) flat은 어떤 벡터들의 생성 또는 동차 선형시스템의 해집합으로 표현될 수 있으므로 벡터공간이다."
   ]
  },
  {
   "cell_type": "markdown",
   "metadata": {
    "slideshow": {
     "slide_type": "subslide"
    }
   },
   "source": [
    "###<부분공간(subspace) - 4.4.3>\n",
    "$$\n",
    "\\text{벡터공간 }V\\text{의 부분집합 }W\\text{에 대해}\\\\[15pt]\n",
    "\\text{1. }O \\in W\\\\\n",
    "\\text{2. }\\forall x,y \\in V,\\text{ } x+y \\in W\\\\\n",
    "\\text{3. }\\forall a \\in F,\\text{ } \\forall x \\in V,\\text{ } ax \\in W\\\\[15pt]\n",
    "\\text{위의 세 조건을 만족할 때 }W\\text{를 }V\\text{의 부분공간이라 함}\\\\\n",
    "\\text{(부분공간은 벡터공간임)}\n",
    "$$"
   ]
  },
  {
   "cell_type": "markdown",
   "metadata": {},
   "source": [
    "$$\n",
    "\\text{벡터공간 }V\\text{의 원소들 }x_1, x_2, \\cdots , x_n\\text{의 선형결합으로 생성되는 }V\\text{의 부분공간을 \\{}x_1, x_2, \\cdots , x_n\\text{\\}의 생성(span)이라 함}\n",
    "$$"
   ]
  },
  {
   "cell_type": "markdown",
   "metadata": {
    "slideshow": {
     "slide_type": "slide"
    }
   },
   "source": [
    "# 4) *\"원점을 포함하지 않는 flat\"*"
   ]
  },
  {
   "cell_type": "markdown",
   "metadata": {},
   "source": [
    "###<원점을 지나지 않는 직선의 표현(p.145) - 4.5.1>\n",
    "1. 원점을 지나는 선분의 **평행이동**\n",
    "2. 벡터 a를 선택하여 직선의 모든 점(벡터공간 V)에 더한 결과(a를 지나고 원점을 지나지 않는 직선)\n",
    "\n",
    "$$\n",
    "\\{a+v: v \\in V\\}\n",
    "$$"
   ]
  },
  {
   "cell_type": "markdown",
   "metadata": {},
   "source": [
    "###<원점을 지나지 않는 평면의 표현>\n",
    "- 평면(세 점을 지나는 )"
   ]
  },
  {
   "cell_type": "markdown",
   "metadata": {},
   "source": [
    "###<아핀결합>\n",
    "####Definition 4.5.2\n",
    "$$\n",
    "\\text{선형결합 }\\alpha_1u_1 + \\cdots + \\alpha_nu_n\\text{은 계수들의 합이 1이면 아핀결합이라고 한다.}\n",
    "$$\n",
    "\n",
    "####Example 4.5.4: 세 점을 지나는 평면을 아래와 같이 아핀결합으로 표현할 수 있다.\n",
    "$$\n",
    "\\text{세 점을 지나는 평면은 아래와 같다.}\\\\\n",
    "u_1 + V\\text{ }(V=Span\\{u_2 - u_1, u_3 - u_1\\})\\\\[20pt]\n",
    "V\\text{에 있는 벡터들은 선형결합으로 나타낼 수 있다.}\\\\\n",
    "\\alpha(u_2 - u_1) + \\beta(u_3 - u_1)\\\\[20pt]\n",
    "따라서 u_1 + V\\text{ 내의 벡터들은 다음 선형결합으로 나타낼 수 있다.}\\\\\n",
    "u_1 + \\alpha(u_2 - u_1) + \\beta(u_3 - u_1)\\\\\n",
    "= (1 - \\alpha - \\beta )u_1 + \\alpha u_2 + \\beta u_3\\\\[20pt]\n",
    "\\gamma = 1 - \\alpha - \\beta\\text{ 라고 하면, 위의 표현은 아래의 아핀결합으로 표현할 수 있다}\\\\\n",
    "\\gamma u_1 + \\alpha u_2 + \\beta u_3\\\\[20pt]\n",
    "즉, u_1 + V\\text{ 내 벡터들은 }u_1, u_2, u_3\\text{의 모든 아핀결합으로 구성된 집합이다.}\n",
    "$$"
   ]
  },
  {
   "cell_type": "markdown",
   "metadata": {},
   "source": [
    "###<아핀(Affine) hull>\n",
    "- **어떤 벡터 컬렉션의 모든 아핀결합으로 구성된 집합을 그 컬렉션의 아핀 _hull_**이라고 함\n",
    "    - **1-벡터 컬렉션의 아핀 hull**은 한 점(컬렉션 내의 하나의 벡터), 즉 **0-차원 객체**임\n",
    "    - **2-벡터 컬렉션의 아핀 hull**은 직선(두 벡터를 지나는 직선), 즉 **1-차원 객체**임\n",
    "    - **3-벡터 컬렉션의 아핀 hull**은 평면(세 벡터를 지나는 평면), 즉 **2-차원 객체**임"
   ]
  },
  {
   "cell_type": "markdown",
   "metadata": {
    "slideshow": {
     "slide_type": "slide"
    }
   },
   "source": [
    "###<아핀공간 - p.148>\n",
    "####Definition 4.5.8: 아핀공간은 벡터공간을 평행이동한 결과. 즉, 집합 A는 다음을 만족하는 벡터 a와 벡터공간 V가 있으면 아핀공간이다.\n",
    "\n",
    "$$\n",
    "A = \\{a+v : v \\in V\\}\\\\\n",
    "\\text{즉, }A = a + V\\\\[20pt]\n",
    "\\text{* flat은 어떤 }n\\text{에 대해 }R^n\\text{의 부분집합인 아핀공간임}\n",
    "$$\n",
    "\n",
    "####Lemma 4.5.10: 벡터들의 아핀 hull(벡터들의 아핀결합)은 아핀공간이다."
   ]
  },
  {
   "cell_type": "markdown",
   "metadata": {},
   "source": [
    "###<아핀공간의 특징>\n",
    "- **원점이 어딘지 모르는 벡터 공간**\n",
    "- 벡터 공간에서 한 점은 그 자체로 원점과 그 점을 잇는 하나의 벡터로 취급할 수 있지만 아핀 공간에서는 원점이 정의되어 있지 않기 때문에 **두 점이 주어져야만 그 두 점을 잇는 하나의 벡터를 얻을 수** 있음. 또는 **하나의 점과 하나의 벡터를 더해서 또 하나의 점을 얻을 수도** 있음\n",
    "- 벡터 공간과는 달리 **두 점의 합은 정의되지 않음**\n",
    "- 아핀 공간에서 **일반적인 선형 결합은 의미가 없음**\n",
    "- 벡터들의 선형결합은 일반적으로는 원점이 다르면 결과도 달라지지만 **계수의 합이 1인 선형 결합은 원점을 어디로 잡든 항상 결과가 항상 같기 때문에 아핀 공간에서도 정의될 수 있고, 이것을 아핀 결합(affine combination)**이라고 함"
   ]
  },
  {
   "cell_type": "markdown",
   "metadata": {},
   "source": [
    "###<아핀공간의 두 가지 표현>\n",
    "1. **a + V**, 여기서 V는 어떤 벡터들의 생성\n",
    "2. 어떤 벡터들의 **아핀 hull**"
   ]
  },
  {
   "cell_type": "markdown",
   "metadata": {},
   "source": [
    "###<아핀공간을 선형시스템의 해집합으로 표현하기(p.150) - 4.5.4>\n",
    "- 몇 개 의 점을 지나는 평면은 이 점들의 아핀 hull\n",
    "- 또한 이 평면은 방정식의 해집합\n",
    "\n",
    "- 원점을 포함하지 않는 flat을 비동차 선형시스템의 해집합으로 표현 가능"
   ]
  },
  {
   "cell_type": "markdown",
   "metadata": {},
   "source": [
    "###<동차 혹은 비동차 선형시스템(p.155) - 4.6>\n",
    "####Theorem 4.6.2: 임의의 선형시스템에 대해, 해집합은 공집합이거나 또는 아핀공간이다.\n",
    "- 만약 선형시스템이 **해를 갖지 않으면 그 해집합은 공집합**\n",
    "- 만약 선형시스템이 **적어도 하나의 해 u_1을 가지면** 해집합은,\n",
    "$$\n",
    "\\{u_1 + v : v \\in V\\}\n",
    "$$"
   ]
  },
  {
   "cell_type": "markdown",
   "metadata": {},
   "source": [
    "###<해의 개수 - 다시 보기(p.157 - 4.6.2)>\n",
    "####Corollary 4.6.4: 선형시스템이 해를 갖는다면, _해가 유일하게 될 필요충분조건은 대응하는 동차 선형시스템에 대한 유일한 해가 영벡터인 것_이다.\n",
    "###<대체된 '해의 유일성'에 대한 질문>\n",
    "####Question 4.6.5: 동차 선형시스템이 _유일한 자명한 해_를 갖는지 어떻게 알 수 있는가?"
   ]
  },
  {
   "cell_type": "markdown",
   "metadata": {
    "slideshow": {
     "slide_type": "slide"
    }
   },
   "source": [
    "##Review questions(재등장)\n",
    "- **벡터공간**은 무엇인가?\n",
    "- **선형결합**은 무엇인가?\n",
    "- **계수**는 무엇인가?\n",
    "- **벡터들의 생성**은 무엇인가?\n",
    "- **표준 생성자**는 무엇인가?\n",
    "- **flat의 예**는 어떤 것이 있는가?\n",
    "- **동차 선형방정식**은 무엇인가?\n",
    "- **원점을 포함하는 flat을 나타내는 두 가지 표현 방식**은 무엇인가?\n",
    "- **부분공간**은 무엇인가?\n",
    "- **아핀공간**은 무엇인가?\n",
    "- **아핀결합**은 무엇인가?\n",
    "- **벡터들의 아핀 hull**은 무엇인가?\n",
    "- **원점을 포함하지 않는 flat을 나타내는 두 가지 표현 방식**은 무엇인가?\n",
    "- **선형시스템의 해집합은 항상 아핀공간인가?**"
   ]
  },
  {
   "cell_type": "markdown",
   "metadata": {
    "slideshow": {
     "slide_type": "slide"
    }
   },
   "source": [
    "#감사합니다:)\n",
    "<img src=\"http://1.bp.blogspot.com/-tuMUeNoMLIo/Uk9fYrQC6HI/AAAAAAAAFUk/Sf5-tewSXgw/s320/KakaoTalk+emoticons+Frodo+and+Friends2.png\">"
   ]
  }
 ],
 "metadata": {
  "kernelspec": {
   "display_name": "Python 3",
   "language": "python",
   "name": "python3"
  },
  "language_info": {
   "codemirror_mode": {
    "name": "ipython",
    "version": 3
   },
   "file_extension": ".py",
   "mimetype": "text/x-python",
   "name": "python",
   "nbconvert_exporter": "python",
   "pygments_lexer": "ipython3",
   "version": "3.4.0"
  }
 },
 "nbformat": 4,
 "nbformat_minor": 0
}
