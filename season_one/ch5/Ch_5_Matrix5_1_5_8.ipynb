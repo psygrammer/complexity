{
 "cells": [
  {
   "cell_type": "markdown",
   "metadata": {},
   "source": [
    "# Chapter 5       \n",
    "# 행렬"
   ]
  },
  {
   "cell_type": "markdown",
   "metadata": {},
   "source": [
    "## 5.1 행렬이란 무엇인가?\n",
    "### 5.1.1 전통적인 행렬\n",
    "\n",
    "#### 전통적인 행렬을 행-리스트(row-list)들로 구성된 리스트로 표현하기\n"
   ]
  },
  {
   "cell_type": "code",
   "execution_count": 29,
   "metadata": {
    "collapsed": true
   },
   "outputs": [],
   "source": [
    "%matplotlib inline "
   ]
  },
  {
   "cell_type": "code",
   "execution_count": 30,
   "metadata": {
    "collapsed": true
   },
   "outputs": [],
   "source": [
    "import matplotlib\n",
    "import numpy as np\n",
    "import matplotlib.pyplot as plt"
   ]
  },
  {
   "cell_type": "code",
   "execution_count": 34,
   "metadata": {
    "collapsed": true
   },
   "outputs": [],
   "source": [
    "class Vec :\n",
    "    def __init__(self, labels, function):\n",
    "        self.D = labels\n",
    "        self.f = function"
   ]
  },
  {
   "cell_type": "markdown",
   "metadata": {},
   "source": [
    "** Quiz 5.1.1 ** 값이 행-리스트들로 구성된 리스트인 중첩된 컴프리핸션을 작성해 보자."
   ]
  },
  {
   "cell_type": "code",
   "execution_count": 38,
   "metadata": {
    "collapsed": false
   },
   "outputs": [
    {
     "data": {
      "text/plain": [
       "[[0, 0, 0, 0], [0, 0, 0, 0], [0, 0, 0, 0]]"
      ]
     },
     "execution_count": 38,
     "metadata": {},
     "output_type": "execute_result"
    }
   ],
   "source": [
    "[[0 for j in range(4)] for i in range(3)]"
   ]
  },
  {
   "cell_type": "markdown",
   "metadata": {},
   "source": [
    "####  **전통적인 행열을 열-리스트(column-list)들로 구성된 리스트로 표현하기**\n",
    "\n",
    "- 행과 열의 쌍대성(duality) - 열을 가지고 할 수 있는 모든 것은 행을 가지고 할 수 있다.\n",
    "\n",
    "** Quiz 5.1.2 ** 값이 열-리스트들로 구성된 리스트인 중첩된 컴프리핸션을 작성해 보자."
   ]
  },
  {
   "cell_type": "code",
   "execution_count": 40,
   "metadata": {
    "collapsed": false
   },
   "outputs": [
    {
     "data": {
      "text/plain": [
       "[[0, -1, -2, -3, 1, 0, -1, -2, 2, 1, 0, -1]]"
      ]
     },
     "execution_count": 40,
     "metadata": {},
     "output_type": "execute_result"
    }
   ],
   "source": [
    "[[i-j for i in range(3) for j in range(4)]]"
   ]
  },
  {
   "cell_type": "markdown",
   "metadata": {},
   "source": [
    "### 5.1.2 행렬에 대해 알아보기\n",
    "\n",
    "\n",
    "** Example 5.1.3 **    R={'a', 'b'}이고, C={'#', '@', '?'} 인 예\n",
    "\n",
    "\n",
    "### 5.1.3 행, 열, 엔트리\n",
    "\n",
    "행렬이 융용한 것은 행과 열을 벡터로 해석할 수 있기 때문이다.\n",
    "Example 5.1.3의 해석\n",
    "- 행 'a'는 벡터 Vec({'@', '#', '?'}, {'@':1, '#':2, '?':3})이다.\n",
    "- 행 'b'는 벡터 Vec({'@', '#', '?'}, {'@':10, '#':20, '?':30})이다.\n",
    "- 열 '@'는 벡터 Vec({'a', 'b'}, {'a':1, 'b':10})이다.\n",
    "- 열 '#'는 벡터 Vec({'a', 'b'}, {'a':2, 'b':20})이다.\n",
    "\n",
    "\n",
    "** Quiz 5.1.4 : ** Vec을 사용하여 열 '?'에 대한 파이썬 표현식을 작성해 보자."
   ]
  },
  {
   "cell_type": "code",
   "execution_count": 41,
   "metadata": {
    "collapsed": false
   },
   "outputs": [
    {
     "data": {
      "text/plain": [
       "<__main__.Vec instance at 0x0000000009E1F388>"
      ]
     },
     "execution_count": 41,
     "metadata": {},
     "output_type": "execute_result"
    }
   ],
   "source": [
    "Vec({'a', 'b'}, {'a':3, 'b':30})"
   ]
  },
  {
   "cell_type": "markdown",
   "metadata": {},
   "source": [
    "#### 행들로 구성된 딕셔너리 표현\n",
    "{'a' : Vec ({'@', '#', '?'}, {'@':1, '#':2, '?':3}),\n",
    "\n",
    "'b' : Vec ({'@', '#', '?'}, {'@':10, '#':20, '?':30})}\n",
    "\n",
    "- 이 책에서는 이러한 표현을 rowdict라고 한다.\n",
    "\n",
    "#### 열들로 구성된 딕셔너리 표현\n",
    "\n",
    "- 이 책에서는 이러한 표현을 coldict라고 한다.\n",
    "\n",
    "** Quiz 5.1.5 :** Example 5.1.3의 행렬에 대한 coldict표현인 파이썬 표현식을 작성해 보자."
   ]
  },
  {
   "cell_type": "code",
   "execution_count": 42,
   "metadata": {
    "collapsed": false
   },
   "outputs": [
    {
     "data": {
      "text/plain": [
       "{'#': <__main__.Vec instance at 0x0000000009E41F48>,\n",
       " '?': <__main__.Vec instance at 0x0000000009E41EC8>,\n",
       " '@': <__main__.Vec instance at 0x0000000009E41F88>}"
      ]
     },
     "execution_count": 42,
     "metadata": {},
     "output_type": "execute_result"
    }
   ],
   "source": [
    "{'#': Vec({'a', 'b'}, {'a':2, 'b':20}),\n",
    "'@': Vec({'a', 'b'}, {'a':1, 'b':10}),\n",
    "'?': Vec({'a', 'b'}, {'a':3, 'b':30})}"
   ]
  },
  {
   "cell_type": "markdown",
   "metadata": {},
   "source": [
    "### 5.1.4 행렬의 파이썬 구현\n",
    "\n",
    "- 행렬을 나타내는 몇가지 다른 표현 (벡터 클래스 Vec와 유사한 Mat로 행렬 정의)\n",
    "- 클래스 Mat의 인스턴스는 다음과 같다.\n",
    "\n",
    "집합들의 쌍(R,C)에 바인딩될 D (D가 하나의 집합인 Vec와는 다름)\n",
    "\n",
    "쌍 (r,c) ∈ R * C을 필드 원소에 매핑하는 함수를 나타내는 딕셔너리에 바인딜 될 f\n",
    "\n",
    "\n",
    "- 행렬의 sparsity표현\n",
    "행렬의 엔트리 중 값이 0인 것은 딕셔너리에 표현할 필요가 없다. (벡터보다 행렬이 훨씬 크기 때문에 중요)\n",
    "\n",
    "C-벡터는 |C|개의 엔트리지만, R*C 행렬은 |R|*|C|개의 엔트리\n",
    "\n",
    "- 벡터에서 D-필드의 값은 집합이고, 딕셔너리의 키들은 이 집합의 원소이다.\n",
    "- 행렬에서 D의 값은 집합들의 쌍(R,C)이고, 딕셔너리 키들은 카테시안 곱R*C의 원소들이다.\n"
   ]
  },
  {
   "cell_type": "markdown",
   "metadata": {},
   "source": [
    "\n",
    "클래스 Mat를 정의하는데 필요한 파이썬 코드는 다음과 같다.\n"
   ]
  },
  {
   "cell_type": "code",
   "execution_count": 74,
   "metadata": {
    "collapsed": true
   },
   "outputs": [],
   "source": [
    "class Mat :\n",
    "    def __init__(self, labels, function):\n",
    "        self.D = labels\n",
    "        self.f = function"
   ]
  },
  {
   "cell_type": "code",
   "execution_count": 75,
   "metadata": {
    "collapsed": true
   },
   "outputs": [],
   "source": [
    "M = Mat(({'a', 'b'}, {'@', '#', '?'}), {('a', '@'):1, ('a', '#'):2, ('a', '?'):3, ('b', '@'):10, ('b', '#'):20, ('b', '?'):30})"
   ]
  },
  {
   "cell_type": "code",
   "execution_count": 69,
   "metadata": {
    "collapsed": false
   },
   "outputs": [
    {
     "name": "stdout",
     "output_type": "stream",
     "text": [
      "<__main__.Mat instance at 0x0000000009E50888>\n"
     ]
    }
   ],
   "source": [
    "print(M)"
   ]
  },
  {
   "cell_type": "markdown",
   "metadata": {},
   "source": [
    "### 단위행렬\n",
    "\n",
    "** Definition 5.1.6 ** 유한집합 D에 대해, D X D 단위행렬은 행-라벨 집합과 열-라벨 집합이 둘다 D이고 모든 d ∈ D 에 대해 엔트리 (d,d)는 1 (모든 다른 엔트리는 0)인 핼렬이다.\n",
    "\n",
    "** Quiz 5.1.7 : ** Mat의 인스턴스로 표현되는 {'a', 'b', 'c'} X {'a', 'b', 'c'}단위행렬에 대한 표현식을 작성해 보자."
   ]
  },
  {
   "cell_type": "code",
   "execution_count": 70,
   "metadata": {
    "collapsed": false
   },
   "outputs": [
    {
     "data": {
      "text/plain": [
       "<__main__.Mat instance at 0x0000000009E50988>"
      ]
     },
     "execution_count": 70,
     "metadata": {},
     "output_type": "execute_result"
    }
   ],
   "source": [
    "Mat(({'a', 'b', 'c'}, {'a', 'b', 'c'}), {('a', 'a'):1, ('b', 'b'):1, ('c', 'c'):1})"
   ]
  },
  {
   "cell_type": "markdown",
   "metadata": {},
   "source": [
    "** Quiz 5.1.8 : **한 줄로 된 프로시저, identity(D)를 작성해 보자.\n",
    "    이 프로시져는 주어진 유한한 집합 D에 대해 Mat의 인스턴스로 표현된 D * D 단위행렬을 리턴한다."
   ]
  },
  {
   "cell_type": "code",
   "execution_count": 44,
   "metadata": {
    "collapsed": true
   },
   "outputs": [],
   "source": [
    "def identity(D) : return Mat(D, D), {(d,d):1 for d in D}"
   ]
  },
  {
   "cell_type": "markdown",
   "metadata": {},
   "source": [
    "### 5.1.6 행렬 표현의 변환\n",
    "\n",
    "** Quiz 5.1.9 : **한 줄로 된 프로시져, mat2rowdict(A)를 작성해 보자. 이 프로시져는 Mat의 인스턴스에 대해 동일한 행렬의 rowdict 표현을 리턴한다. 딕셔너리 컴프리핸션을 사용해 보자."
   ]
  },
  {
   "cell_type": "code",
   "execution_count": 77,
   "metadata": {
    "collapsed": true
   },
   "outputs": [],
   "source": [
    "def mat2rowdict(A) :\n",
    "    return {r:Vec(A.D[1], {c:A[r,c] for c in A.D[1] for r in A.D[0]})}"
   ]
  },
  {
   "cell_type": "markdown",
   "metadata": {},
   "source": [
    "** Quiz 5.1.10 : ** 한 줄로 된 프로시져, mat2coldict(A)를 작성해 보자. 이 프로시져는 Mat의 인스턴스에 대해 동일한 행렬의 coldict 표현을 리턴한다. 딕셔너리 컴프리핸션을 사용해 보자."
   ]
  },
  {
   "cell_type": "code",
   "execution_count": 46,
   "metadata": {
    "collapsed": true
   },
   "outputs": [],
   "source": [
    "def mat2coldict(A) :\n",
    "    return {c:Vec(A, D[0], {r:A[r,c] for r in A.D[0] for c in A.D[1]})}"
   ]
  },
  {
   "cell_type": "markdown",
   "metadata": {},
   "source": [
    "### 5.1.7 matutil.py"
   ]
  },
  {
   "cell_type": "code",
   "execution_count": 78,
   "metadata": {
    "collapsed": false
   },
   "outputs": [
    {
     "ename": "NameError",
     "evalue": "name 'listlist2mat' is not defined",
     "output_type": "error",
     "traceback": [
      "\u001b[1;31m---------------------------------------------------------------------------\u001b[0m",
      "\u001b[1;31mNameError\u001b[0m                                 Traceback (most recent call last)",
      "\u001b[1;32m<ipython-input-78-fb5a1fa8fb3d>\u001b[0m in \u001b[0;36m<module>\u001b[1;34m()\u001b[0m\n\u001b[1;32m----> 1\u001b[1;33m \u001b[0mA\u001b[0m \u001b[1;33m=\u001b[0m \u001b[0mlistlist2mat\u001b[0m\u001b[1;33m(\u001b[0m\u001b[1;33m[\u001b[0m\u001b[1;33m[\u001b[0m\u001b[1;36m10\u001b[0m\u001b[1;33m,\u001b[0m \u001b[1;36m20\u001b[0m\u001b[1;33m,\u001b[0m \u001b[1;36m30\u001b[0m\u001b[1;33m,\u001b[0m \u001b[1;36m40\u001b[0m\u001b[1;33m]\u001b[0m\u001b[1;33m,\u001b[0m \u001b[1;33m[\u001b[0m\u001b[1;36m50\u001b[0m\u001b[1;33m,\u001b[0m \u001b[1;36m60\u001b[0m\u001b[1;33m,\u001b[0m \u001b[1;36m70\u001b[0m\u001b[1;33m,\u001b[0m \u001b[1;36m80\u001b[0m\u001b[1;33m]\u001b[0m\u001b[1;33m]\u001b[0m\u001b[1;33m)\u001b[0m\u001b[1;33m\u001b[0m\u001b[0m\n\u001b[0m",
      "\u001b[1;31mNameError\u001b[0m: name 'listlist2mat' is not defined"
     ]
    }
   ],
   "source": [
    "A = listlist2mat([[10, 20, 30, 40], [50, 60, 70, 80]])"
   ]
  },
  {
   "cell_type": "code",
   "execution_count": 48,
   "metadata": {
    "collapsed": false
   },
   "outputs": [
    {
     "ename": "NameError",
     "evalue": "name 'A' is not defined",
     "output_type": "error",
     "traceback": [
      "\u001b[1;31m---------------------------------------------------------------------------\u001b[0m",
      "\u001b[1;31mNameError\u001b[0m                                 Traceback (most recent call last)",
      "\u001b[1;32m<ipython-input-48-132c38f01ecd>\u001b[0m in \u001b[0;36m<module>\u001b[1;34m()\u001b[0m\n\u001b[1;32m----> 1\u001b[1;33m \u001b[1;32mprint\u001b[0m\u001b[1;33m(\u001b[0m\u001b[0mA\u001b[0m\u001b[1;33m)\u001b[0m\u001b[1;33m\u001b[0m\u001b[0m\n\u001b[0m",
      "\u001b[1;31mNameError\u001b[0m: name 'A' is not defined"
     ]
    }
   ],
   "source": [
    "print(A)"
   ]
  },
  {
   "cell_type": "markdown",
   "metadata": {},
   "source": [
    "## 5.2 열공간 (Column space)과 행공간 (Row space)\n",
    "\n",
    "** Definition 5.2.1 : **행렬 M에 대해,\n",
    "- M의 열공간은 Col M으로 나타내며 M의 열들에 의해 생성된 벡터공간이다.\n",
    "- M의 행공간은 Row M으로 나타내며 M의 행들에 의해 생성된 벡터공간이다.\n",
    "\n",
    "\n",
    "** Example 5,2,2 **\n",
    "\n",
    "\n",
    "## 5.3 벡터로서의 행렬\n",
    "\n",
    "- 이 챕터에서는 행렬 연산에 대해 기술할 것이다.\n",
    "- 행렬은 벡터로 해석될 수 있다.\n",
    "\n",
    "** Quiz 5.3.1 :** 프로시져, mat2Vec(M)을 작성해 보자. 이 프로시져는 주어진 Mat의 인스턴스에 대해 대응하는 Vec의 인스턴스를 리턴한다."
   ]
  },
  {
   "cell_type": "code",
   "execution_count": 82,
   "metadata": {
    "collapsed": false
   },
   "outputs": [],
   "source": [
    "def mat2vec(M) :\n",
    "    return Vec({(r,s) for r in M.D[0] for s in M.D[1]}, M.f)"
   ]
  },
  {
   "cell_type": "markdown",
   "metadata": {},
   "source": [
    "## 5.4 전치 (Transpose)\n",
    "\n",
    "- 행렬의 전치는 행과 열을 바꾸는 것이다.\n",
    "\n",
    "\n",
    "** Definition 5.4.1 : ** P * Q 행렬의 전치는 ?\n",
    "\n",
    "** Quiz 5.4.1 :** 프로시져, transpose(M)을 작성해 보자"
   ]
  },
  {
   "cell_type": "code",
   "execution_count": 83,
   "metadata": {
    "collapsed": false
   },
   "outputs": [
    {
     "ename": "NameError",
     "evalue": "global name 'p' is not defined",
     "output_type": "error",
     "traceback": [
      "\u001b[1;31m---------------------------------------------------------------------------\u001b[0m",
      "\u001b[1;31mNameError\u001b[0m                                 Traceback (most recent call last)",
      "\u001b[1;32m<ipython-input-83-742ba599fbf7>\u001b[0m in \u001b[0;36m<module>\u001b[1;34m()\u001b[0m\n\u001b[1;32m----> 1\u001b[1;33m \u001b[1;32mprint\u001b[0m\u001b[1;33m(\u001b[0m\u001b[0mtranspose\u001b[0m\u001b[1;33m(\u001b[0m\u001b[0mM\u001b[0m\u001b[1;33m)\u001b[0m\u001b[1;33m)\u001b[0m\u001b[1;33m\u001b[0m\u001b[0m\n\u001b[0m",
      "\u001b[1;32m<ipython-input-80-3d586cdebe8a>\u001b[0m in \u001b[0;36mtranspose\u001b[1;34m(M)\u001b[0m\n\u001b[0;32m      1\u001b[0m \u001b[1;32mdef\u001b[0m \u001b[0mtranspose\u001b[0m\u001b[1;33m(\u001b[0m\u001b[0mM\u001b[0m\u001b[1;33m)\u001b[0m \u001b[1;33m:\u001b[0m\u001b[1;33m\u001b[0m\u001b[0m\n\u001b[1;32m----> 2\u001b[1;33m     \u001b[1;32mreturn\u001b[0m \u001b[0mMat\u001b[0m\u001b[1;33m(\u001b[0m\u001b[1;33m(\u001b[0m\u001b[0mM\u001b[0m\u001b[1;33m.\u001b[0m\u001b[0mD\u001b[0m\u001b[1;33m[\u001b[0m\u001b[1;36m1\u001b[0m\u001b[1;33m]\u001b[0m\u001b[1;33m,\u001b[0m \u001b[0mM\u001b[0m\u001b[1;33m.\u001b[0m\u001b[0mD\u001b[0m\u001b[1;33m[\u001b[0m\u001b[1;36m0\u001b[0m\u001b[1;33m]\u001b[0m\u001b[1;33m,\u001b[0m \u001b[1;33m{\u001b[0m\u001b[1;33m(\u001b[0m\u001b[0mp\u001b[0m\u001b[1;33m,\u001b[0m\u001b[0mq\u001b[0m\u001b[1;33m)\u001b[0m\u001b[1;33m,\u001b[0m \u001b[0mv\u001b[0m \u001b[1;32min\u001b[0m \u001b[0mM\u001b[0m\u001b[1;33m.\u001b[0m\u001b[0mF\u001b[0m\u001b[1;33m.\u001b[0m\u001b[0mitems\u001b[0m\u001b[1;33m(\u001b[0m\u001b[1;33m)\u001b[0m\u001b[1;33m}\u001b[0m\u001b[1;33m)\u001b[0m\u001b[1;33m)\u001b[0m\u001b[1;33m\u001b[0m\u001b[0m\n\u001b[0m",
      "\u001b[1;31mNameError\u001b[0m: global name 'p' is not defined"
     ]
    }
   ],
   "source": [
    "print(transpose(M))"
   ]
  },
  {
   "cell_type": "code",
   "execution_count": 84,
   "metadata": {
    "collapsed": true
   },
   "outputs": [],
   "source": [
    "def transpose(M) :\n",
    "    return Mat((M.D[1], M.D[0], {(p,q), v in M.F.items()}))"
   ]
  },
  {
   "cell_type": "markdown",
   "metadata": {},
   "source": [
    "- 대칭행렬 M 설명\n",
    "\n",
    "** Example 5.4.3 : ** \n",
    "\n",
    "\n",
    "## 5.5 선형결합의 행렬-벡터 곱셈과 벡터-행렬 곱셈\n",
    "\n",
    "- 행렬을 벡터로 곱하는 2가지 방법 : 행렬-벡터 곱샘 , 벡터-행렬 곱셈\n",
    "- 이에 대한 정의를 선형결합, 도트곱을 사용하여 보여준다.\n",
    "\n",
    "\n",
    "### 5.5.1 선형결합의 행렬-벡터 곱셈\n",
    "\n",
    "** Definion 5.5.1 ** M을 F상의 R X C 행렬이라 하자. v는 F상의 C-벡터라 하자. 그러면 M * v 는 선형결합이다.\n",
    "\n",
    "\n",
    "** Example 5.5.2: **  전통적인 행렬을 사용하는 한 예를 고려해 보자.\n",
    "\n",
    "** Example 5.5.3 :** 행렬에 곱할 수 있는 벡터의 조건은?\n",
    "\n",
    "** Example 5.5.4 : ** 예로 본 핼렬-벡터의 곱\n",
    "\n",
    "** Example 5.5.5 :** Lights Out 퍼즐에 대한 해는 \"버튼 벡터\"들의 선형결합이다.  (Example 4.1.9 - p129)\n",
    "\n",
    "\n",
    "### 5.5.2 선형결합의 벡터-행렬 곱셈\n",
    "\n",
    "\n",
    "** definition 5.5.6 ** : M을 R X C 행렬이라 하자. w는 R벡터라 하자. 그러면, w*M은 선형결합니다.\n",
    "\n",
    "** Example 5.5.7 : **\n",
    "\n",
    "** Example 5.5.8 : **\n",
    "\n",
    "** Example 5.5.10 : ** 섹션 4.1.2에서 선형결합의 응용 예 (p 126 ~ 127)"
   ]
  },
  {
   "cell_type": "code",
   "execution_count": 86,
   "metadata": {
    "collapsed": false
   },
   "outputs": [
    {
     "ename": "NameError",
     "evalue": "name 'v_v_gnome' is not defined",
     "output_type": "error",
     "traceback": [
      "\u001b[1;31m---------------------------------------------------------------------------\u001b[0m",
      "\u001b[1;31mNameError\u001b[0m                                 Traceback (most recent call last)",
      "\u001b[1;32m<ipython-input-86-cd723f3ae027>\u001b[0m in \u001b[0;36m<module>\u001b[1;34m()\u001b[0m\n\u001b[1;32m----> 1\u001b[1;33m \u001b[0mrowdict\u001b[0m \u001b[1;33m=\u001b[0m \u001b[1;33m{\u001b[0m\u001b[1;34m'gnome'\u001b[0m\u001b[1;33m:\u001b[0m\u001b[0mv_v_gnome\u001b[0m\u001b[1;33m,\u001b[0m \u001b[1;34m'hoop'\u001b[0m\u001b[1;33m:\u001b[0m\u001b[0mv_hoop\u001b[0m\u001b[1;33m,\u001b[0m \u001b[1;34m'slinky'\u001b[0m\u001b[1;33m:\u001b[0m\u001b[0mv_slinky\u001b[0m\u001b[1;33m,\u001b[0m \u001b[1;34m'putty'\u001b[0m\u001b[1;33m:\u001b[0m \u001b[0mv_putty\u001b[0m\u001b[1;33m,\u001b[0m \u001b[1;34m'shotter'\u001b[0m\u001b[1;33m:\u001b[0m\u001b[0mv_shotter\u001b[0m\u001b[1;33m}\u001b[0m\u001b[1;33m\u001b[0m\u001b[0m\n\u001b[0m",
      "\u001b[1;31mNameError\u001b[0m: name 'v_v_gnome' is not defined"
     ]
    }
   ],
   "source": [
    "rowdict = {'gnome':v_v_gnome, 'hoop':v_hoop, 'slinky':v_slinky, 'putty': v_putty, 'shotter':v_shotter}"
   ]
  },
  {
   "cell_type": "code",
   "execution_count": 54,
   "metadata": {
    "collapsed": false
   },
   "outputs": [
    {
     "ename": "NameError",
     "evalue": "name 'rowdict2mat' is not defined",
     "output_type": "error",
     "traceback": [
      "\u001b[1;31m---------------------------------------------------------------------------\u001b[0m",
      "\u001b[1;31mNameError\u001b[0m                                 Traceback (most recent call last)",
      "\u001b[1;32m<ipython-input-54-26eb28388539>\u001b[0m in \u001b[0;36m<module>\u001b[1;34m()\u001b[0m\n\u001b[1;32m----> 1\u001b[1;33m \u001b[0mM\u001b[0m \u001b[1;33m=\u001b[0m \u001b[0mrowdict2mat\u001b[0m\u001b[1;33m(\u001b[0m\u001b[0mrowdict\u001b[0m\u001b[1;33m)\u001b[0m\u001b[1;33m\u001b[0m\u001b[0m\n\u001b[0m",
      "\u001b[1;31mNameError\u001b[0m: name 'rowdict2mat' is not defined"
     ]
    }
   ],
   "source": [
    "M = rowdict2mat(rowdict)"
   ]
  },
  {
   "cell_type": "code",
   "execution_count": 55,
   "metadata": {
    "collapsed": false
   },
   "outputs": [
    {
     "ename": "NameError",
     "evalue": "name 'M' is not defined",
     "output_type": "error",
     "traceback": [
      "\u001b[1;31m---------------------------------------------------------------------------\u001b[0m",
      "\u001b[1;31mNameError\u001b[0m                                 Traceback (most recent call last)",
      "\u001b[1;32m<ipython-input-55-8c4558fab4a8>\u001b[0m in \u001b[0;36m<module>\u001b[1;34m()\u001b[0m\n\u001b[1;32m----> 1\u001b[1;33m \u001b[1;32mprint\u001b[0m\u001b[1;33m(\u001b[0m\u001b[0mM\u001b[0m\u001b[1;33m)\u001b[0m\u001b[1;33m\u001b[0m\u001b[0m\n\u001b[0m",
      "\u001b[1;31mNameError\u001b[0m: name 'M' is not defined"
     ]
    }
   ],
   "source": [
    "print(M)"
   ]
  },
  {
   "cell_type": "code",
   "execution_count": 56,
   "metadata": {
    "collapsed": true
   },
   "outputs": [],
   "source": [
    "R = {'gnome', 'hoop', 'slinky', 'putty', 'shotter'}"
   ]
  },
  {
   "cell_type": "code",
   "execution_count": 58,
   "metadata": {
    "collapsed": false
   },
   "outputs": [],
   "source": [
    "u = Vec(R, {'putty':133, 'gnome':240, 'slinky':150, 'hoop':55, 'shooter':90})"
   ]
  },
  {
   "cell_type": "code",
   "execution_count": 59,
   "metadata": {
    "collapsed": false
   },
   "outputs": [
    {
     "ename": "NameError",
     "evalue": "name 'M' is not defined",
     "output_type": "error",
     "traceback": [
      "\u001b[1;31m---------------------------------------------------------------------------\u001b[0m",
      "\u001b[1;31mNameError\u001b[0m                                 Traceback (most recent call last)",
      "\u001b[1;32m<ipython-input-59-4c7eea112088>\u001b[0m in \u001b[0;36m<module>\u001b[1;34m()\u001b[0m\n\u001b[1;32m----> 1\u001b[1;33m \u001b[1;32mprint\u001b[0m\u001b[1;33m(\u001b[0m\u001b[0mu\u001b[0m\u001b[1;33m*\u001b[0m\u001b[0mM\u001b[0m\u001b[1;33m)\u001b[0m\u001b[1;33m\u001b[0m\u001b[0m\n\u001b[0m",
      "\u001b[1;31mNameError\u001b[0m: name 'M' is not defined"
     ]
    }
   ],
   "source": [
    "print(u*M)"
   ]
  },
  {
   "cell_type": "markdown",
   "metadata": {},
   "source": [
    "### 5.5.3 주어진 벡터의 선형결합 표현을 행랼-벡터 곱셈으로 구성하기\n",
    "\n",
    "- 다음 예는 주어진 벡터를 선형결합으로 표현하는 문제\n",
    "\n",
    "** Example 5.5.11 :** 섹션 4.1.4의 산업 스파이 문제 (??????)\n",
    "\n",
    "** Example 5.5.12 : ** Example 4.1.9(p129)의 Lights Out 퍼즐 문제  (??????)"
   ]
  },
  {
   "cell_type": "code",
   "execution_count": 60,
   "metadata": {
    "collapsed": false
   },
   "outputs": [
    {
     "ename": "NameError",
     "evalue": "name 'coldict2mat' is not defined",
     "output_type": "error",
     "traceback": [
      "\u001b[1;31m---------------------------------------------------------------------------\u001b[0m",
      "\u001b[1;31mNameError\u001b[0m                                 Traceback (most recent call last)",
      "\u001b[1;32m<ipython-input-60-dd74053dd6e0>\u001b[0m in \u001b[0;36m<module>\u001b[1;34m()\u001b[0m\n\u001b[1;32m----> 1\u001b[1;33m \u001b[0mB\u001b[0m \u001b[1;33m=\u001b[0m \u001b[0mcoldict2mat\u001b[0m\u001b[1;33m(\u001b[0m\u001b[0mbutton_vectors\u001b[0m\u001b[1;33m(\u001b[0m\u001b[1;36m5\u001b[0m\u001b[1;33m)\u001b[0m\u001b[1;33m)\u001b[0m\u001b[1;33m\u001b[0m\u001b[0m\n\u001b[0m",
      "\u001b[1;31mNameError\u001b[0m: name 'coldict2mat' is not defined"
     ]
    }
   ],
   "source": [
    "B = coldict2mat(button_vectors(5))"
   ]
  },
  {
   "cell_type": "code",
   "execution_count": 61,
   "metadata": {
    "collapsed": false
   },
   "outputs": [
    {
     "ename": "NameError",
     "evalue": "name 'b' is not defined",
     "output_type": "error",
     "traceback": [
      "\u001b[1;31m---------------------------------------------------------------------------\u001b[0m",
      "\u001b[1;31mNameError\u001b[0m                                 Traceback (most recent call last)",
      "\u001b[1;32m<ipython-input-61-10aecbd476b6>\u001b[0m in \u001b[0;36m<module>\u001b[1;34m()\u001b[0m\n\u001b[1;32m----> 1\u001b[1;33m \u001b[0ms\u001b[0m \u001b[1;33m=\u001b[0m \u001b[0mVec\u001b[0m\u001b[1;33m(\u001b[0m\u001b[0mb\u001b[0m\u001b[1;33m.\u001b[0m\u001b[0mD\u001b[0m\u001b[1;33m,\u001b[0m \u001b[1;33m{\u001b[0m\u001b[1;33m(\u001b[0m\u001b[1;36m2\u001b[0m\u001b[1;33m,\u001b[0m\u001b[1;36m2\u001b[0m\u001b[1;33m)\u001b[0m\u001b[1;33m:\u001b[0m \u001b[0mone\u001b[0m\u001b[1;33m}\u001b[0m\u001b[1;33m)\u001b[0m\u001b[1;33m\u001b[0m\u001b[0m\n\u001b[0m",
      "\u001b[1;31mNameError\u001b[0m: name 'b' is not defined"
     ]
    }
   ],
   "source": [
    "s = Vec(b.D, {(2,2): one})"
   ]
  },
  {
   "cell_type": "markdown",
   "metadata": {},
   "source": [
    "### 5.5.4 행렬-벡터 방정식의 해 구하기\n",
    "\n",
    "\n",
    "Example 5.5. 14 :\n",
    "\n",
    "\n",
    "Example 5.5.15 : \n",
    "\n",
    "Example 5.5.16 : \n",
    "\n",
    "\n",
    "## 5.6 도트곱의 행렬-벡터 곱셈\n",
    "\n",
    "### 5.6.1 정의\n",
    "\n",
    "** Definition 5.6.1 **(행렬-벡터 곱셈의 도트곱 정의) 만약 M이 R X C 행렬이고, u는 C-벡터이면, M * u 는 벡터 v이다. 이때, v[r]은 M의 행 r과 u의 도트곱이다.\n",
    "\n",
    "** Example 5.6.2 :**  행렬-벡터 곱셈을 고려해 보자.\n",
    "\n",
    "\n",
    "** Definition 5.6.3 ** (벡터-행렬 곱셈의 도트곱 정의) 만약 M이 R X C 행렬이고, u는 R-벡터이면, u * M 는 벡터 v이다. 이때, v[c]은 u와 M의 열 c의 도트곱이다.\n",
    "\n",
    "\n",
    "### 5.6.2 응용 예 (제외)\n",
    "\n",
    "### 5.6.3 선형방정식들의 시스템을 행렬-벡터 방정식으로 구성하기\n",
    "\n",
    "** Example 5.6.7 : **\n",
    "\n",
    "\n",
    "### 5.6.4 삼각시스템(Triangular system)과 삼각행렬(Triangular matrix)\n",
    "\n",
    "** Example 5.6.8 :** \n",
    "\n",
    "** Definition 5.6.9 :**  n X n 상삼각 (upper-triangular) 행렬 A는 i>j에 대해 Aij = 0인 행렬이다.\n",
    "\n",
    "** Definition 5.6.10 : ** \n",
    "\n",
    "** Example 5.6.11 :**  {a,b,c} X {@, #, ?} 행렬\n",
    "\n",
    "\n",
    "\n",
    "### 5.6.5 행렬-벡터 곱셈의 산술적 성질\n",
    "\n",
    "- 임의의 C-벡터 v와 임의의 스칼라 a에 대해 , M * (av) = a(M * v)\n",
    "- 임의의 C-벡터 u와 v에 대해, M * (u + v) = M * u + M * v\n",
    "\n",
    "\n",
    "## 5.7 영공간 (Nul l space)\n",
    "\n",
    "\n",
    "\n",
    "### 5.7.1 동차 선형시스템과 행렬방정식\n",
    "\n",
    "- 동차 선형시스템 : 우변의 값들이 모두 0 인 선형방정식들의 시스템, A * x = 0 으로 표현가능\n",
    "\n",
    "\n",
    "** Definition 5.7.1 :**  행렬 A의 영공간은 집합 {u : A * u = 0 } 이다. 이것은 Null A로 나타낸다.\n",
    "\n",
    "** Example 5.7.2 :** \n",
    "\n",
    "\n",
    "### 5.7.2 행렬-벡터 방정식의 해공간\n",
    "\n",
    "\n",
    "### 5.7.3 에러정정코드에 대한 소개 ~  5.7.5 해밍코드 (제외)\n",
    "\n",
    "\n",
    "## 5.8 스파스 (Sparse) 행렬-벡터 곱 계산\n",
    "\n",
    "** Definition 5.8.1 ** (행렬-벡터 곱셈의 일반적 정의)"
   ]
  },
  {
   "cell_type": "code",
   "execution_count": null,
   "metadata": {
    "collapsed": true
   },
   "outputs": [],
   "source": []
  }
 ],
 "metadata": {
  "kernelspec": {
   "display_name": "Python 2",
   "language": "python",
   "name": "python2"
  },
  "language_info": {
   "codemirror_mode": {
    "name": "ipython",
    "version": 2
   },
   "file_extension": ".py",
   "mimetype": "text/x-python",
   "name": "python",
   "nbconvert_exporter": "python",
   "pygments_lexer": "ipython2",
   "version": "2.7.8"
  }
 },
 "nbformat": 4,
 "nbformat_minor": 0
}
