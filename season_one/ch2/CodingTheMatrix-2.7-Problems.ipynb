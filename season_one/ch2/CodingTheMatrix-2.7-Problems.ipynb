{
 "cells": [
  {
   "cell_type": "markdown",
   "metadata": {},
   "source": [
    "# 파이썬의 컴프리헨션 문제"
   ]
  },
  {
   "cell_type": "markdown",
   "metadata": {},
   "source": [
    "Problem 2.7.1: my_filter(L, num)\n",
    "- input: 숫자들의 리스트와 하나의 숫자\n",
    "- out: num의 배수를 포함하지 않는 숫자들의 리스트\n",
    "- example: 주어진 L=[1,2,4,5,7]과 num=2에 대해 [1,5,7]을 리턴한다."
   ]
  },
  {
   "cell_type": "code",
   "execution_count": 10,
   "metadata": {
    "collapsed": false
   },
   "outputs": [],
   "source": [
    "def my_filter(L, num):\n",
    "    filtered = [x for x in L if x % 2 != 0]\n",
    "    return filtered"
   ]
  },
  {
   "cell_type": "code",
   "execution_count": 11,
   "metadata": {
    "collapsed": false
   },
   "outputs": [
    {
     "name": "stdout",
     "output_type": "stream",
     "text": [
      "[1, 5, 7]\n"
     ]
    }
   ],
   "source": [
    "print(my_filter([1,2,5,7], 2))"
   ]
  },
  {
   "cell_type": "markdown",
   "metadata": {},
   "source": [
    "Problem 2.7.2: my_lists(L)\n",
    "- input: 음이 아닌 정수들의 리스트 L\n",
    "- output: 리스트들로 구성된 리스트. L 내에 모든 원소 x에 대해 1,2, ... ,x를 포함하는 리스트 생성\n",
    "- example: 주어진 [1,2,3]에 대해, [[1],[1,2],[1,2,3]]을 리턴한다.\n",
    "- example: 주어진 [0]에 대해, [[]]을 리턴한다."
   ]
  },
  {
   "cell_type": "code",
   "execution_count": 12,
   "metadata": {
    "collapsed": true
   },
   "outputs": [],
   "source": [
    "def my_lists(L):\n",
    "    length = len(L)\n",
    "    L1 = [ elem for elem in L if elem > 0]\n",
    "\n",
    "    result = [L1[:idx+1] for idx in range(length)]\n",
    "    return result"
   ]
  },
  {
   "cell_type": "code",
   "execution_count": 13,
   "metadata": {
    "collapsed": false
   },
   "outputs": [
    {
     "name": "stdout",
     "output_type": "stream",
     "text": [
      "[[1], [1, 2], [1, 2, 3]]\n"
     ]
    }
   ],
   "source": [
    "print(my_lists([1,2,3]))"
   ]
  },
  {
   "cell_type": "code",
   "execution_count": 14,
   "metadata": {
    "collapsed": false
   },
   "outputs": [
    {
     "name": "stdout",
     "output_type": "stream",
     "text": [
      "[[]]\n"
     ]
    }
   ],
   "source": [
    "print(my_lists([0]))"
   ]
  },
  {
   "cell_type": "markdown",
   "metadata": {},
   "source": [
    "Problem 2.7.3: my_function_composition(f, g)\n",
    "- input: 두개의 함수 f와 g. 함수들은 딕셔너리로 표현되고 g.f존재\n",
    "- output: 함수 g.f를 나타내는 딕셔너리\n",
    "- example: 주어진 f={0:'a', 1:'b'}, g={'a':'apple', 'b':'banana'}에 대해, {0:'apple', 1:'banana'}을 리턴한다."
   ]
  },
  {
   "cell_type": "code",
   "execution_count": 15,
   "metadata": {
    "collapsed": false
   },
   "outputs": [],
   "source": [
    "def f():\n",
    "    return {0:'a', 1:'b'}\n",
    "\n",
    "def g():\n",
    "    return {'a':'apple', 'b':'banana'}"
   ]
  },
  {
   "cell_type": "code",
   "execution_count": 16,
   "metadata": {
    "collapsed": true
   },
   "outputs": [],
   "source": [
    "def my_function_composition(f, g):\n",
    "    fr = f()\n",
    "    gr = g()\n",
    "    result = {key:gr[fr[key]] for key in fr}\n",
    "    return result"
   ]
  },
  {
   "cell_type": "code",
   "execution_count": 17,
   "metadata": {
    "collapsed": false
   },
   "outputs": [
    {
     "name": "stdout",
     "output_type": "stream",
     "text": [
      "{0: 'apple', 1: 'banana'}\n"
     ]
    }
   ],
   "source": [
    "result = my_function_composition(f, g)\n",
    "print(result)"
   ]
  },
  {
   "cell_type": "markdown",
   "metadata": {},
   "source": [
    "# 파이썬의 루프 문제"
   ]
  },
  {
   "cell_type": "raw",
   "metadata": {},
   "source": [
    "def <ProcedureName>(L):\n",
    "    current = ...\n",
    "    for x in L:\n",
    "        current = ...\n",
    "    return current"
   ]
  },
  {
   "cell_type": "markdown",
   "metadata": {},
   "source": [
    "Problem 2.7.4: mySum(L)\n",
    "- input: 숫자들의 리스트\n",
    "- output: 리스트 내에 숫자들의 합"
   ]
  },
  {
   "cell_type": "code",
   "execution_count": 30,
   "metadata": {
    "collapsed": true
   },
   "outputs": [],
   "source": [
    "def mySum(L):\n",
    "    sum = 0\n",
    "    for elem in L:\n",
    "        sum += elem\n",
    "    return sum"
   ]
  },
  {
   "cell_type": "code",
   "execution_count": 19,
   "metadata": {
    "collapsed": false
   },
   "outputs": [
    {
     "name": "stdout",
     "output_type": "stream",
     "text": [
      "6\n"
     ]
    }
   ],
   "source": [
    "print(mySum([1,2,3]))"
   ]
  },
  {
   "cell_type": "markdown",
   "metadata": {},
   "source": [
    "Problem 2.7.5: myProduct(L)\n",
    "- input: 숫자들의 리스트\n",
    "- output: 리스트 내에 숫자들의 곱"
   ]
  },
  {
   "cell_type": "code",
   "execution_count": 31,
   "metadata": {
    "collapsed": true
   },
   "outputs": [],
   "source": [
    "def myProduct(L):\n",
    "    product = 1\n",
    "    for elem in L:\n",
    "        product *= elem\n",
    "    return product"
   ]
  },
  {
   "cell_type": "code",
   "execution_count": 48,
   "metadata": {
    "collapsed": false
   },
   "outputs": [
    {
     "name": "stdout",
     "output_type": "stream",
     "text": [
      "6\n"
     ]
    }
   ],
   "source": [
    "print(myProduct([1,2,3]))"
   ]
  },
  {
   "cell_type": "markdown",
   "metadata": {},
   "source": [
    "Problem 2.7.6: myMin(L)\n",
    "- input: 숫자들의 리스트\n",
    "- output: 리스트 내에 최소 숫자"
   ]
  },
  {
   "cell_type": "code",
   "execution_count": 32,
   "metadata": {
    "collapsed": true
   },
   "outputs": [],
   "source": [
    "import sys\n",
    "\n",
    "def myMin(L):\n",
    "    min = sys.maxsize\n",
    "    for elem in L:\n",
    "        if(elem < min): min = elem\n",
    "    return min"
   ]
  },
  {
   "cell_type": "code",
   "execution_count": 22,
   "metadata": {
    "collapsed": false
   },
   "outputs": [
    {
     "name": "stdout",
     "output_type": "stream",
     "text": [
      "1\n"
     ]
    }
   ],
   "source": [
    "print(myMin([1,2,3,4]))"
   ]
  },
  {
   "cell_type": "markdown",
   "metadata": {},
   "source": [
    "Problem 2.7.7: myConcat(L)\n",
    "- input: 문자열들의 리스트\n",
    "- output: L 내에 모든 문자열의 결함"
   ]
  },
  {
   "cell_type": "code",
   "execution_count": 33,
   "metadata": {
    "collapsed": true
   },
   "outputs": [],
   "source": [
    "def myConcat(L):\n",
    "    concat = \"\"\n",
    "    for elem in L:\n",
    "        concat += elem\n",
    "    return concat"
   ]
  },
  {
   "cell_type": "code",
   "execution_count": 24,
   "metadata": {
    "collapsed": false
   },
   "outputs": [
    {
     "name": "stdout",
     "output_type": "stream",
     "text": [
      "abclmnxyz\n"
     ]
    }
   ],
   "source": [
    "print(myConcat([\"abc\",\"lmn\",\"xyz\"]))"
   ]
  },
  {
   "cell_type": "markdown",
   "metadata": {},
   "source": [
    "Problem 2.7.8: myUnion(L)\n",
    "- input: 집합들의 리스트\n",
    "- output: L 내에 모든 집합의 합집합"
   ]
  },
  {
   "cell_type": "code",
   "execution_count": 34,
   "metadata": {
    "collapsed": true
   },
   "outputs": [],
   "source": [
    "def myUnion(L):\n",
    "    union = set()\n",
    "    for elem in L:\n",
    "        union = union | elem\n",
    "    return union"
   ]
  },
  {
   "cell_type": "code",
   "execution_count": 27,
   "metadata": {
    "collapsed": false
   },
   "outputs": [
    {
     "name": "stdout",
     "output_type": "stream",
     "text": [
      "{1, 2, 22, 105, 106, 11}\n"
     ]
    }
   ],
   "source": [
    "print(myUnion([{1,2},{11,22},{105,106,2}]))"
   ]
  },
  {
   "cell_type": "markdown",
   "metadata": {},
   "source": [
    "Problem 2.7.9: 위에서 언ㄴ급한 내용을 참고하여 다음 각각에 대한 답을 찾아보자\n",
    "1. 빈 집합에 있는 숫자들의 합\n",
    "2. 빈 집합에 있는 숫자들의 곱\n",
    "3. 빈 집합에 있는 숫자들 중 최소값\n",
    "4. 문자열들을 원소로 가지는 리스트가 빈 리스트인 경우의 결합\n",
    "5. 집합들을 원소로 가지는 리스트가 빈 리스트인 경우의 합결합"
   ]
  },
  {
   "cell_type": "code",
   "execution_count": 35,
   "metadata": {
    "collapsed": false
   },
   "outputs": [
    {
     "name": "stdout",
     "output_type": "stream",
     "text": [
      "0\n",
      "1\n",
      "9223372036854775807\n",
      "\n",
      "set()\n"
     ]
    }
   ],
   "source": [
    "print(mySum([]))\n",
    "print(myProduct([]))\n",
    "print(myMin([]))\n",
    "print(myConcat([]))\n",
    "print(myUnion([]))"
   ]
  },
  {
   "cell_type": "markdown",
   "metadata": {},
   "source": [
    "# 복소수 덧셈 연습"
   ]
  },
  {
   "cell_type": "markdown",
   "metadata": {},
   "source": [
    "Problem 2.7.10: 다음 문제들의 각각은 두 개의 복소수의 합을 구하는 것이다. 각각에 대해 해를 구하고 그림 2.1과 같이 그림으로 나타내어 보자. 그리는 화살표는 더해지는 벡터에(대략적으로) 대응되어야 한다.\n",
    "\n",
    "1. (3+1i)+(2+2i)\n",
    "2. (-1+2i)+(1-1i)\n",
    "3. (2+0i)+(-3+.00i) \n",
    "4. 4(0+2i)+(.001+1i)"
   ]
  },
  {
   "cell_type": "markdown",
   "metadata": {},
   "source": [
    "1. 5+3i\n",
    "2. 0+1i\n",
    "3. -1+.00i\n",
    "4. .001+1i"
   ]
  },
  {
   "cell_type": "markdown",
   "metadata": {},
   "source": [
    "# 지수의 곱"
   ]
  },
  {
   "cell_type": "markdown",
   "metadata": {},
   "source": [
    "Problem 2.7.11: 지수의 첫 번째 법칙을 사용하여 (섹션 2.4.9) 두 지수의 곱을 하나의 지수로 표현해 보자. 예를 들어, exp(π/4i)exp(π/4i) = exp(π/2i)이다\n",
    "\n",
    "1. exp(1i)exp(2i)\n",
    "2. exp(π/4i)exp(2π/3i)\n",
    "3. exp(-π/4i)exp(2π/3i)"
   ]
  },
  {
   "cell_type": "markdown",
   "metadata": {},
   "source": [
    "1. exp(3i)\n",
    "2. exp(11/12i)\n",
    "3. exp(5/12i)"
   ]
  },
  {
   "cell_type": "markdown",
   "metadata": {},
   "source": [
    "# 복소수에 대한 연산 결합"
   ]
  },
  {
   "cell_type": "markdown",
   "metadata": {},
   "source": [
    "Problem 2.7.12: 다음 스펙을 가지고 프로시저, transform(a,b,L)을 작성해 보자\n",
    "\n",
    "- input: 복소수 a와 b, 복소수들의 리스트 L\n",
    "- output: f(z) = az + b를 L내의 각 복소수에 적용하여 얻은 복소수들의 리스트\n",
    "\n",
    "다음의 각 문제에 명시된 변환을 이루기 위해, a와 b 값으로 어떤 값을 선택해야 하는지 설명해 보자. 만일 명시된 변환을 이룰 방법이 없으면, 그 이유를 설명해 보자.\n",
    "\n",
    "1. z를 위로 1유닛, 오른쪽으로 1유닛 평행이동하고, 다음에 시계 방향으로 45도 회전한 후, 아래로 2만큼 스케일링해 보자\n",
    "2. 실수부를 2만큼, 허수부를 3만큼 스케일링하고 반시계 방향으로 45도 회전한 후, 아래에 2유닛, 왼쪽으로 3유닛 평행 이동해 보자"
   ]
  },
  {
   "cell_type": "code",
   "execution_count": 36,
   "metadata": {
    "collapsed": true
   },
   "outputs": [],
   "source": [
    "def transform(a,b,L):\n",
    "    result = [ a*elem + b for elem in L]\n",
    "    return result"
   ]
  },
  {
   "cell_type": "code",
   "execution_count": 32,
   "metadata": {
    "collapsed": false
   },
   "outputs": [
    {
     "name": "stdout",
     "output_type": "stream",
     "text": [
      "[(3+6j), (5+7j)]\n"
     ]
    }
   ],
   "source": [
    "print(transform((2+1j),(2+3j),[(1+1j),(2+1j)]))"
   ]
  },
  {
   "cell_type": "markdown",
   "metadata": {},
   "source": [
    "1. 풀어 봅시다."
   ]
  },
  {
   "cell_type": "code",
   "execution_count": 4,
   "metadata": {
    "collapsed": false
   },
   "outputs": [],
   "source": [
    "import math"
   ]
  },
  {
   "cell_type": "code",
   "execution_count": 37,
   "metadata": {
    "collapsed": false
   },
   "outputs": [
    {
     "name": "stdout",
     "output_type": "stream",
     "text": [
      "[(7.363961030678928+0.29289321881345254j)]\n"
     ]
    }
   ],
   "source": [
    "a = math.sqrt(2)/2 + math.sqrt(2)/2j\n",
    "b = 1 + 1j\n",
    "transformed = transform(a,b,[(5+4j)])\n",
    "print(transformed)"
   ]
  },
  {
   "cell_type": "markdown",
   "metadata": {},
   "source": [
    "2. 풀어 봅시다."
   ]
  },
  {
   "cell_type": "markdown",
   "metadata": {},
   "source": [
    "실수부를 2만큼, 허수부를 3만큼 스케일링하고 반시계 방향으로 45도 회전한 후, 아래에 2유닛, 왼쪽으로 3유닛 평행 이동해 보자"
   ]
  },
  {
   "cell_type": "code",
   "execution_count": 38,
   "metadata": {
    "collapsed": false
   },
   "outputs": [
    {
     "name": "stdout",
     "output_type": "stream",
     "text": [
      "[(24.414213562373096-0.12132034355964283j)]\n"
     ]
    }
   ],
   "source": [
    "a = 3-2j\n",
    "b = 2*math.sqrt(2)/2 - 3j*math.sqrt(2)/2\n",
    "transformed = transform(a,b,[(5+4j)])\n",
    "print(transformed)"
   ]
  },
  {
   "cell_type": "markdown",
   "metadata": {},
   "source": [
    "# GF(2) 연산"
   ]
  },
  {
   "cell_type": "markdown",
   "metadata": {},
   "source": [
    "Problem 2.7.13: 다음의 각 문제에 대해 GF(2)연산의 결과를 계산해 보자\n",
    "\n",
    "1. 1 + 1 + 1 + 0\n",
    "2. 1 * 1 + 1 * 1 + 0 * 0 + 1 * 1\n",
    "3. (1 + 1 + 1) * (1 + 1 + 1 + 1)"
   ]
  },
  {
   "cell_type": "markdown",
   "metadata": {},
   "source": [
    "1. 1\n",
    "2. 1\n",
    "3. 0"
   ]
  },
  {
   "cell_type": "markdown",
   "metadata": {},
   "source": [
    "# 네트워크 코딩"
   ]
  },
  {
   "cell_type": "markdown",
   "metadata": {},
   "source": [
    "Problem 2.7.14: 섹션 2.5.2에서 사용된 네트워크 예를 생각해 보자. 주어진 순간에 전송되어야 할 비트는 b1=1, b2=1이다. 네트워크의 각 링크를 그 링크를 통해 전송되어야 비트를 가지고 표시해 보자. 이 때, 비트는 네트워크 코딩 기법에 따라 전송된다. 사용자 노드 c와 d는 어떻게 b1과 b2를 수신할 수 있는지 설명해 보자."
   ]
  },
  {
   "cell_type": "markdown",
   "metadata": {},
   "source": [
    "\n"
   ]
  }
 ],
 "metadata": {
  "kernelspec": {
   "display_name": "Python 3",
   "language": "python",
   "name": "python3"
  },
  "language_info": {
   "codemirror_mode": {
    "name": "ipython",
    "version": 3
   },
   "file_extension": ".py",
   "mimetype": "text/x-python",
   "name": "python",
   "nbconvert_exporter": "python",
   "pygments_lexer": "ipython3",
   "version": "3.4.0"
  }
 },
 "nbformat": 4,
 "nbformat_minor": 0
}
